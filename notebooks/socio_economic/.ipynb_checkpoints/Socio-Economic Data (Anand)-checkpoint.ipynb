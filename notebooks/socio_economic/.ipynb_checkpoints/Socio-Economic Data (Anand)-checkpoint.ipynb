{
 "cells": [
  {
   "cell_type": "markdown",
   "id": "95e8feef",
   "metadata": {},
   "source": [
    "# Socio-Economic Data\n",
    "The purpose of this document is to create one dataset containing the following socioeconomic factors:\n",
    "- malnutrition\n",
    "- poverty rate\n",
    "- unemployment rate\n",
    "- gdp per capita\n",
    "- population"
   ]
  },
  {
   "cell_type": "code",
   "execution_count": 1,
   "id": "6e8ff81a",
   "metadata": {},
   "outputs": [],
   "source": [
    "import pandas as pd"
   ]
  },
  {
   "cell_type": "markdown",
   "id": "930dbf34",
   "metadata": {
    "heading_collapsed": true
   },
   "source": [
    "## Malnutrition per municipality"
   ]
  },
  {
   "cell_type": "code",
   "execution_count": 3,
   "id": "4c654d7b",
   "metadata": {
    "hidden": true
   },
   "outputs": [
    {
     "data": {
      "text/html": [
       "<div>\n",
       "<style scoped>\n",
       "    .dataframe tbody tr th:only-of-type {\n",
       "        vertical-align: middle;\n",
       "    }\n",
       "\n",
       "    .dataframe tbody tr th {\n",
       "        vertical-align: top;\n",
       "    }\n",
       "\n",
       "    .dataframe thead th {\n",
       "        text-align: right;\n",
       "    }\n",
       "</style>\n",
       "<table border=\"1\" class=\"dataframe\">\n",
       "  <thead>\n",
       "    <tr style=\"text-align: right;\">\n",
       "      <th></th>\n",
       "      <th>Ano</th>\n",
       "      <th>Código_IBGE</th>\n",
       "      <th>Magreza_total_%</th>\n",
       "    </tr>\n",
       "  </thead>\n",
       "  <tbody>\n",
       "    <tr>\n",
       "      <th>0</th>\n",
       "      <td>2008</td>\n",
       "      <td>5300108</td>\n",
       "      <td>5.31</td>\n",
       "    </tr>\n",
       "    <tr>\n",
       "      <th>1</th>\n",
       "      <td>2008</td>\n",
       "      <td>5200050</td>\n",
       "      <td>8.14</td>\n",
       "    </tr>\n",
       "    <tr>\n",
       "      <th>2</th>\n",
       "      <td>2008</td>\n",
       "      <td>5200100</td>\n",
       "      <td>4.02</td>\n",
       "    </tr>\n",
       "    <tr>\n",
       "      <th>3</th>\n",
       "      <td>2008</td>\n",
       "      <td>5200134</td>\n",
       "      <td>0.97</td>\n",
       "    </tr>\n",
       "    <tr>\n",
       "      <th>4</th>\n",
       "      <td>2008</td>\n",
       "      <td>5200159</td>\n",
       "      <td>1.23</td>\n",
       "    </tr>\n",
       "  </tbody>\n",
       "</table>\n",
       "</div>"
      ],
      "text/plain": [
       "    Ano  Código_IBGE  Magreza_total_%\n",
       "0  2008      5300108             5.31\n",
       "1  2008      5200050             8.14\n",
       "2  2008      5200100             4.02\n",
       "3  2008      5200134             0.97\n",
       "4  2008      5200159             1.23"
      ]
     },
     "execution_count": 3,
     "metadata": {},
     "output_type": "execute_result"
    }
   ],
   "source": [
    "malnutrition = pd.read_csv(\"../../transformed_data/socio_economic/desnutrição/malnutrition_per_municipality_ML.csv\")\n",
    "malnutrition.head()"
   ]
  },
  {
   "cell_type": "code",
   "execution_count": 4,
   "id": "f1136865",
   "metadata": {
    "hidden": true
   },
   "outputs": [
    {
     "name": "stdout",
     "output_type": "stream",
     "text": [
      "<class 'pandas.core.frame.DataFrame'>\n",
      "RangeIndex: 89120 entries, 0 to 89119\n",
      "Data columns (total 3 columns):\n",
      " #   Column           Non-Null Count  Dtype  \n",
      "---  ------           --------------  -----  \n",
      " 0   Ano              89120 non-null  int64  \n",
      " 1   Código_IBGE      89120 non-null  int64  \n",
      " 2   Magreza_total_%  89120 non-null  float64\n",
      "dtypes: float64(1), int64(2)\n",
      "memory usage: 2.0 MB\n"
     ]
    }
   ],
   "source": [
    "malnutrition.info()"
   ]
  },
  {
   "cell_type": "markdown",
   "id": "80ac8423",
   "metadata": {},
   "source": [
    "## GDP per capita per UF"
   ]
  },
  {
   "cell_type": "code",
   "execution_count": 5,
   "id": "060daa18",
   "metadata": {},
   "outputs": [
    {
     "data": {
      "text/html": [
       "<div>\n",
       "<style scoped>\n",
       "    .dataframe tbody tr th:only-of-type {\n",
       "        vertical-align: middle;\n",
       "    }\n",
       "\n",
       "    .dataframe tbody tr th {\n",
       "        vertical-align: top;\n",
       "    }\n",
       "\n",
       "    .dataframe thead th {\n",
       "        text-align: right;\n",
       "    }\n",
       "</style>\n",
       "<table border=\"1\" class=\"dataframe\">\n",
       "  <thead>\n",
       "    <tr style=\"text-align: right;\">\n",
       "      <th></th>\n",
       "      <th>Código_UF</th>\n",
       "      <th>Ano</th>\n",
       "      <th>PIB</th>\n",
       "    </tr>\n",
       "  </thead>\n",
       "  <tbody>\n",
       "    <tr>\n",
       "      <th>0</th>\n",
       "      <td>12</td>\n",
       "      <td>2000</td>\n",
       "      <td>3864.01</td>\n",
       "    </tr>\n",
       "    <tr>\n",
       "      <th>1</th>\n",
       "      <td>12</td>\n",
       "      <td>2001</td>\n",
       "      <td>4309.39</td>\n",
       "    </tr>\n",
       "    <tr>\n",
       "      <th>2</th>\n",
       "      <td>12</td>\n",
       "      <td>2002</td>\n",
       "      <td>4887.09</td>\n",
       "    </tr>\n",
       "    <tr>\n",
       "      <th>3</th>\n",
       "      <td>12</td>\n",
       "      <td>2003</td>\n",
       "      <td>5502.38</td>\n",
       "    </tr>\n",
       "    <tr>\n",
       "      <th>4</th>\n",
       "      <td>12</td>\n",
       "      <td>2004</td>\n",
       "      <td>6415.31</td>\n",
       "    </tr>\n",
       "  </tbody>\n",
       "</table>\n",
       "</div>"
      ],
      "text/plain": [
       "   Código_UF   Ano      PIB\n",
       "0         12  2000  3864.01\n",
       "1         12  2001  4309.39\n",
       "2         12  2002  4887.09\n",
       "3         12  2003  5502.38\n",
       "4         12  2004  6415.31"
      ]
     },
     "execution_count": 5,
     "metadata": {},
     "output_type": "execute_result"
    }
   ],
   "source": [
    "gdp = pd.read_csv(\"../../transformed_data/socio_economic/pib/gdp_per_capita_per_uf_ML\")\n",
    "gdp.head()"
   ]
  },
  {
   "cell_type": "code",
   "execution_count": 6,
   "id": "6be3f634",
   "metadata": {},
   "outputs": [
    {
     "name": "stdout",
     "output_type": "stream",
     "text": [
      "<class 'pandas.core.frame.DataFrame'>\n",
      "RangeIndex: 567 entries, 0 to 566\n",
      "Data columns (total 3 columns):\n",
      " #   Column     Non-Null Count  Dtype  \n",
      "---  ------     --------------  -----  \n",
      " 0   Código_UF  567 non-null    int64  \n",
      " 1   Ano        567 non-null    int64  \n",
      " 2   PIB        567 non-null    float64\n",
      "dtypes: float64(1), int64(2)\n",
      "memory usage: 13.4 KB\n"
     ]
    }
   ],
   "source": [
    "gdp.info()"
   ]
  },
  {
   "cell_type": "markdown",
   "id": "495e4f6d",
   "metadata": {
    "heading_collapsed": true
   },
   "source": [
    "## Population per municipality"
   ]
  },
  {
   "cell_type": "code",
   "execution_count": 7,
   "id": "c1a3b692",
   "metadata": {
    "hidden": true
   },
   "outputs": [
    {
     "data": {
      "text/html": [
       "<div>\n",
       "<style scoped>\n",
       "    .dataframe tbody tr th:only-of-type {\n",
       "        vertical-align: middle;\n",
       "    }\n",
       "\n",
       "    .dataframe tbody tr th {\n",
       "        vertical-align: top;\n",
       "    }\n",
       "\n",
       "    .dataframe thead th {\n",
       "        text-align: right;\n",
       "    }\n",
       "</style>\n",
       "<table border=\"1\" class=\"dataframe\">\n",
       "  <thead>\n",
       "    <tr style=\"text-align: right;\">\n",
       "      <th></th>\n",
       "      <th>Código_IBGE</th>\n",
       "      <th>Ano</th>\n",
       "      <th>Populacao</th>\n",
       "    </tr>\n",
       "  </thead>\n",
       "  <tbody>\n",
       "    <tr>\n",
       "      <th>0</th>\n",
       "      <td>3166600</td>\n",
       "      <td>2021</td>\n",
       "      <td>771</td>\n",
       "    </tr>\n",
       "    <tr>\n",
       "      <th>1</th>\n",
       "      <td>3166600</td>\n",
       "      <td>2020</td>\n",
       "      <td>776</td>\n",
       "    </tr>\n",
       "    <tr>\n",
       "      <th>2</th>\n",
       "      <td>3166600</td>\n",
       "      <td>2019</td>\n",
       "      <td>781</td>\n",
       "    </tr>\n",
       "    <tr>\n",
       "      <th>3</th>\n",
       "      <td>3166600</td>\n",
       "      <td>2018</td>\n",
       "      <td>786</td>\n",
       "    </tr>\n",
       "    <tr>\n",
       "      <th>4</th>\n",
       "      <td>3507209</td>\n",
       "      <td>2011</td>\n",
       "      <td>806</td>\n",
       "    </tr>\n",
       "  </tbody>\n",
       "</table>\n",
       "</div>"
      ],
      "text/plain": [
       "   Código_IBGE   Ano  Populacao\n",
       "0      3166600  2021        771\n",
       "1      3166600  2020        776\n",
       "2      3166600  2019        781\n",
       "3      3166600  2018        786\n",
       "4      3507209  2011        806"
      ]
     },
     "execution_count": 7,
     "metadata": {},
     "output_type": "execute_result"
    }
   ],
   "source": [
    "population = pd.read_csv(\"../../transformed_data/socio_economic/population/population_per_municipality_ML.csv\")\n",
    "population.head()"
   ]
  },
  {
   "cell_type": "code",
   "execution_count": 8,
   "id": "205cd187",
   "metadata": {
    "hidden": true
   },
   "outputs": [
    {
     "name": "stdout",
     "output_type": "stream",
     "text": [
      "<class 'pandas.core.frame.DataFrame'>\n",
      "RangeIndex: 83530 entries, 0 to 83529\n",
      "Data columns (total 3 columns):\n",
      " #   Column       Non-Null Count  Dtype\n",
      "---  ------       --------------  -----\n",
      " 0   Código_IBGE  83530 non-null  int64\n",
      " 1   Ano          83530 non-null  int64\n",
      " 2   Populacao    83530 non-null  int64\n",
      "dtypes: int64(3)\n",
      "memory usage: 1.9 MB\n"
     ]
    }
   ],
   "source": [
    "population.info()"
   ]
  },
  {
   "cell_type": "markdown",
   "id": "89c25bb3",
   "metadata": {
    "heading_collapsed": true
   },
   "source": [
    "## Poverty per UF"
   ]
  },
  {
   "cell_type": "code",
   "execution_count": 9,
   "id": "52b2534b",
   "metadata": {
    "hidden": true
   },
   "outputs": [
    {
     "data": {
      "text/html": [
       "<div>\n",
       "<style scoped>\n",
       "    .dataframe tbody tr th:only-of-type {\n",
       "        vertical-align: middle;\n",
       "    }\n",
       "\n",
       "    .dataframe tbody tr th {\n",
       "        vertical-align: top;\n",
       "    }\n",
       "\n",
       "    .dataframe thead th {\n",
       "        text-align: right;\n",
       "    }\n",
       "</style>\n",
       "<table border=\"1\" class=\"dataframe\">\n",
       "  <thead>\n",
       "    <tr style=\"text-align: right;\">\n",
       "      <th></th>\n",
       "      <th>Código_UF</th>\n",
       "      <th>Ano</th>\n",
       "      <th>Poverty_%</th>\n",
       "    </tr>\n",
       "  </thead>\n",
       "  <tbody>\n",
       "    <tr>\n",
       "      <th>0</th>\n",
       "      <td>11</td>\n",
       "      <td>2012</td>\n",
       "      <td>31.61</td>\n",
       "    </tr>\n",
       "    <tr>\n",
       "      <th>1</th>\n",
       "      <td>11</td>\n",
       "      <td>2013</td>\n",
       "      <td>29.50</td>\n",
       "    </tr>\n",
       "    <tr>\n",
       "      <th>2</th>\n",
       "      <td>11</td>\n",
       "      <td>2014</td>\n",
       "      <td>26.03</td>\n",
       "    </tr>\n",
       "    <tr>\n",
       "      <th>3</th>\n",
       "      <td>11</td>\n",
       "      <td>2015</td>\n",
       "      <td>28.92</td>\n",
       "    </tr>\n",
       "    <tr>\n",
       "      <th>4</th>\n",
       "      <td>11</td>\n",
       "      <td>2016</td>\n",
       "      <td>31.23</td>\n",
       "    </tr>\n",
       "  </tbody>\n",
       "</table>\n",
       "</div>"
      ],
      "text/plain": [
       "   Código_UF   Ano  Poverty_%\n",
       "0         11  2012      31.61\n",
       "1         11  2013      29.50\n",
       "2         11  2014      26.03\n",
       "3         11  2015      28.92\n",
       "4         11  2016      31.23"
      ]
     },
     "execution_count": 9,
     "metadata": {},
     "output_type": "execute_result"
    }
   ],
   "source": [
    "poverty = pd.read_csv(\"../../transformed_data/socio_economic/poverty/poverty_per_uf_ML.csv\")\n",
    "poverty.head()"
   ]
  },
  {
   "cell_type": "code",
   "execution_count": 10,
   "id": "1acb9985",
   "metadata": {
    "hidden": true
   },
   "outputs": [
    {
     "name": "stdout",
     "output_type": "stream",
     "text": [
      "<class 'pandas.core.frame.DataFrame'>\n",
      "RangeIndex: 270 entries, 0 to 269\n",
      "Data columns (total 3 columns):\n",
      " #   Column     Non-Null Count  Dtype  \n",
      "---  ------     --------------  -----  \n",
      " 0   Código_UF  270 non-null    int64  \n",
      " 1   Ano        270 non-null    int64  \n",
      " 2   Poverty_%  270 non-null    float64\n",
      "dtypes: float64(1), int64(2)\n",
      "memory usage: 6.5 KB\n"
     ]
    }
   ],
   "source": [
    "poverty.info()"
   ]
  },
  {
   "cell_type": "markdown",
   "id": "1ce7dedc",
   "metadata": {
    "heading_collapsed": true
   },
   "source": [
    "## Unemployment per UF"
   ]
  },
  {
   "cell_type": "code",
   "execution_count": 11,
   "id": "66c73039",
   "metadata": {
    "hidden": true
   },
   "outputs": [
    {
     "data": {
      "text/html": [
       "<div>\n",
       "<style scoped>\n",
       "    .dataframe tbody tr th:only-of-type {\n",
       "        vertical-align: middle;\n",
       "    }\n",
       "\n",
       "    .dataframe tbody tr th {\n",
       "        vertical-align: top;\n",
       "    }\n",
       "\n",
       "    .dataframe thead th {\n",
       "        text-align: right;\n",
       "    }\n",
       "</style>\n",
       "<table border=\"1\" class=\"dataframe\">\n",
       "  <thead>\n",
       "    <tr style=\"text-align: right;\">\n",
       "      <th></th>\n",
       "      <th>Código_UF</th>\n",
       "      <th>Ano</th>\n",
       "      <th>Unemployed_%</th>\n",
       "    </tr>\n",
       "  </thead>\n",
       "  <tbody>\n",
       "    <tr>\n",
       "      <th>0</th>\n",
       "      <td>11</td>\n",
       "      <td>2018</td>\n",
       "      <td>9.050</td>\n",
       "    </tr>\n",
       "    <tr>\n",
       "      <th>1</th>\n",
       "      <td>11</td>\n",
       "      <td>2020</td>\n",
       "      <td>10.425</td>\n",
       "    </tr>\n",
       "    <tr>\n",
       "      <th>2</th>\n",
       "      <td>11</td>\n",
       "      <td>2017</td>\n",
       "      <td>8.225</td>\n",
       "    </tr>\n",
       "    <tr>\n",
       "      <th>3</th>\n",
       "      <td>11</td>\n",
       "      <td>2012</td>\n",
       "      <td>6.350</td>\n",
       "    </tr>\n",
       "    <tr>\n",
       "      <th>4</th>\n",
       "      <td>11</td>\n",
       "      <td>2016</td>\n",
       "      <td>7.925</td>\n",
       "    </tr>\n",
       "  </tbody>\n",
       "</table>\n",
       "</div>"
      ],
      "text/plain": [
       "   Código_UF   Ano  Unemployed_%\n",
       "0         11  2018         9.050\n",
       "1         11  2020        10.425\n",
       "2         11  2017         8.225\n",
       "3         11  2012         6.350\n",
       "4         11  2016         7.925"
      ]
     },
     "execution_count": 11,
     "metadata": {},
     "output_type": "execute_result"
    }
   ],
   "source": [
    "unemployment = pd.read_csv(\"../../transformed_data/socio_economic/unemployment/unemployement_per_UF_ML.csv\")\n",
    "unemployment.head()"
   ]
  },
  {
   "cell_type": "code",
   "execution_count": 12,
   "id": "1ada2e6e",
   "metadata": {
    "hidden": true
   },
   "outputs": [
    {
     "name": "stdout",
     "output_type": "stream",
     "text": [
      "<class 'pandas.core.frame.DataFrame'>\n",
      "RangeIndex: 297 entries, 0 to 296\n",
      "Data columns (total 3 columns):\n",
      " #   Column        Non-Null Count  Dtype  \n",
      "---  ------        --------------  -----  \n",
      " 0   Código_UF     297 non-null    int64  \n",
      " 1   Ano           297 non-null    int64  \n",
      " 2   Unemployed_%  297 non-null    float64\n",
      "dtypes: float64(1), int64(2)\n",
      "memory usage: 7.1 KB\n"
     ]
    }
   ],
   "source": [
    "unemployment.info()"
   ]
  },
  {
   "cell_type": "markdown",
   "id": "9551899d",
   "metadata": {},
   "source": [
    "## Merge dataframes"
   ]
  },
  {
   "cell_type": "markdown",
   "id": "0790c0be",
   "metadata": {},
   "source": [
    "### Malnutrition + Population"
   ]
  },
  {
   "cell_type": "code",
   "execution_count": 14,
   "id": "4ce9d096",
   "metadata": {},
   "outputs": [
    {
     "data": {
      "text/plain": [
       "((89120, 3), (83530, 3))"
      ]
     },
     "execution_count": 14,
     "metadata": {},
     "output_type": "execute_result"
    }
   ],
   "source": [
    "malnutrition.shape, population.shape"
   ]
  },
  {
   "cell_type": "code",
   "execution_count": 19,
   "id": "74460470",
   "metadata": {},
   "outputs": [
    {
     "data": {
      "text/plain": [
       "(5289, 5570)"
      ]
     },
     "execution_count": 19,
     "metadata": {},
     "output_type": "execute_result"
    }
   ],
   "source": [
    "len(malnutrition.Código_IBGE.unique()), len(population.Código_IBGE.unique())"
   ]
  },
  {
   "cell_type": "code",
   "execution_count": 25,
   "id": "33bd7ff8",
   "metadata": {},
   "outputs": [],
   "source": [
    "malnutrition_and_population = pd.merge(population, malnutrition, on=['Código_IBGE', 'Ano'], how='inner')"
   ]
  },
  {
   "cell_type": "code",
   "execution_count": 26,
   "id": "dc14401c",
   "metadata": {},
   "outputs": [
    {
     "data": {
      "text/html": [
       "<div>\n",
       "<style scoped>\n",
       "    .dataframe tbody tr th:only-of-type {\n",
       "        vertical-align: middle;\n",
       "    }\n",
       "\n",
       "    .dataframe tbody tr th {\n",
       "        vertical-align: top;\n",
       "    }\n",
       "\n",
       "    .dataframe thead th {\n",
       "        text-align: right;\n",
       "    }\n",
       "</style>\n",
       "<table border=\"1\" class=\"dataframe\">\n",
       "  <thead>\n",
       "    <tr style=\"text-align: right;\">\n",
       "      <th></th>\n",
       "      <th>Código_IBGE</th>\n",
       "      <th>Ano</th>\n",
       "      <th>Populacao</th>\n",
       "      <th>Magreza_total_%</th>\n",
       "    </tr>\n",
       "  </thead>\n",
       "  <tbody>\n",
       "    <tr>\n",
       "      <th>0</th>\n",
       "      <td>3166600</td>\n",
       "      <td>2021</td>\n",
       "      <td>771</td>\n",
       "      <td>2.70</td>\n",
       "    </tr>\n",
       "    <tr>\n",
       "      <th>1</th>\n",
       "      <td>3166600</td>\n",
       "      <td>2020</td>\n",
       "      <td>776</td>\n",
       "      <td>3.50</td>\n",
       "    </tr>\n",
       "    <tr>\n",
       "      <th>2</th>\n",
       "      <td>3166600</td>\n",
       "      <td>2019</td>\n",
       "      <td>781</td>\n",
       "      <td>1.59</td>\n",
       "    </tr>\n",
       "    <tr>\n",
       "      <th>3</th>\n",
       "      <td>3166600</td>\n",
       "      <td>2018</td>\n",
       "      <td>786</td>\n",
       "      <td>1.67</td>\n",
       "    </tr>\n",
       "    <tr>\n",
       "      <th>4</th>\n",
       "      <td>3507209</td>\n",
       "      <td>2011</td>\n",
       "      <td>806</td>\n",
       "      <td>0.00</td>\n",
       "    </tr>\n",
       "    <tr>\n",
       "      <th>...</th>\n",
       "      <td>...</td>\n",
       "      <td>...</td>\n",
       "      <td>...</td>\n",
       "      <td>...</td>\n",
       "    </tr>\n",
       "    <tr>\n",
       "      <th>83525</th>\n",
       "      <td>3550308</td>\n",
       "      <td>2017</td>\n",
       "      <td>12106920</td>\n",
       "      <td>2.42</td>\n",
       "    </tr>\n",
       "    <tr>\n",
       "      <th>83526</th>\n",
       "      <td>3550308</td>\n",
       "      <td>2018</td>\n",
       "      <td>12176866</td>\n",
       "      <td>2.50</td>\n",
       "    </tr>\n",
       "    <tr>\n",
       "      <th>83527</th>\n",
       "      <td>3550308</td>\n",
       "      <td>2019</td>\n",
       "      <td>12252023</td>\n",
       "      <td>2.85</td>\n",
       "    </tr>\n",
       "    <tr>\n",
       "      <th>83528</th>\n",
       "      <td>3550308</td>\n",
       "      <td>2020</td>\n",
       "      <td>12325232</td>\n",
       "      <td>2.53</td>\n",
       "    </tr>\n",
       "    <tr>\n",
       "      <th>83529</th>\n",
       "      <td>3550308</td>\n",
       "      <td>2021</td>\n",
       "      <td>12396372</td>\n",
       "      <td>3.10</td>\n",
       "    </tr>\n",
       "  </tbody>\n",
       "</table>\n",
       "<p>83530 rows × 4 columns</p>\n",
       "</div>"
      ],
      "text/plain": [
       "       Código_IBGE   Ano  Populacao  Magreza_total_%\n",
       "0          3166600  2021        771             2.70\n",
       "1          3166600  2020        776             3.50\n",
       "2          3166600  2019        781             1.59\n",
       "3          3166600  2018        786             1.67\n",
       "4          3507209  2011        806             0.00\n",
       "...            ...   ...        ...              ...\n",
       "83525      3550308  2017   12106920             2.42\n",
       "83526      3550308  2018   12176866             2.50\n",
       "83527      3550308  2019   12252023             2.85\n",
       "83528      3550308  2020   12325232             2.53\n",
       "83529      3550308  2021   12396372             3.10\n",
       "\n",
       "[83530 rows x 4 columns]"
      ]
     },
     "execution_count": 26,
     "metadata": {},
     "output_type": "execute_result"
    }
   ],
   "source": [
    "malnutrition_and_population"
   ]
  },
  {
   "cell_type": "markdown",
   "id": "f03745b1",
   "metadata": {},
   "source": [
    "Add UF column"
   ]
  },
  {
   "cell_type": "code",
   "execution_count": 27,
   "id": "121dab96",
   "metadata": {},
   "outputs": [
    {
     "data": {
      "text/html": [
       "<div>\n",
       "<style scoped>\n",
       "    .dataframe tbody tr th:only-of-type {\n",
       "        vertical-align: middle;\n",
       "    }\n",
       "\n",
       "    .dataframe tbody tr th {\n",
       "        vertical-align: top;\n",
       "    }\n",
       "\n",
       "    .dataframe thead th {\n",
       "        text-align: right;\n",
       "    }\n",
       "</style>\n",
       "<table border=\"1\" class=\"dataframe\">\n",
       "  <thead>\n",
       "    <tr style=\"text-align: right;\">\n",
       "      <th></th>\n",
       "      <th>Código_UF</th>\n",
       "      <th>Estado</th>\n",
       "      <th>UF</th>\n",
       "      <th>Código_IBGE</th>\n",
       "      <th>Município</th>\n",
       "      <th>Região</th>\n",
       "    </tr>\n",
       "  </thead>\n",
       "  <tbody>\n",
       "    <tr>\n",
       "      <th>0</th>\n",
       "      <td>11</td>\n",
       "      <td>Rondônia</td>\n",
       "      <td>RO</td>\n",
       "      <td>1100015</td>\n",
       "      <td>Alta Floresta D'Oeste</td>\n",
       "      <td>Norte</td>\n",
       "    </tr>\n",
       "    <tr>\n",
       "      <th>1</th>\n",
       "      <td>11</td>\n",
       "      <td>Rondônia</td>\n",
       "      <td>RO</td>\n",
       "      <td>1100023</td>\n",
       "      <td>Ariquemes</td>\n",
       "      <td>Norte</td>\n",
       "    </tr>\n",
       "    <tr>\n",
       "      <th>2</th>\n",
       "      <td>11</td>\n",
       "      <td>Rondônia</td>\n",
       "      <td>RO</td>\n",
       "      <td>1100031</td>\n",
       "      <td>Cabixi</td>\n",
       "      <td>Norte</td>\n",
       "    </tr>\n",
       "    <tr>\n",
       "      <th>3</th>\n",
       "      <td>11</td>\n",
       "      <td>Rondônia</td>\n",
       "      <td>RO</td>\n",
       "      <td>1100049</td>\n",
       "      <td>Cacoal</td>\n",
       "      <td>Norte</td>\n",
       "    </tr>\n",
       "    <tr>\n",
       "      <th>4</th>\n",
       "      <td>11</td>\n",
       "      <td>Rondônia</td>\n",
       "      <td>RO</td>\n",
       "      <td>1100056</td>\n",
       "      <td>Cerejeiras</td>\n",
       "      <td>Norte</td>\n",
       "    </tr>\n",
       "  </tbody>\n",
       "</table>\n",
       "</div>"
      ],
      "text/plain": [
       "   Código_UF    Estado  UF  Código_IBGE              Município Região\n",
       "0         11  Rondônia  RO      1100015  Alta Floresta D'Oeste  Norte\n",
       "1         11  Rondônia  RO      1100023              Ariquemes  Norte\n",
       "2         11  Rondônia  RO      1100031                 Cabixi  Norte\n",
       "3         11  Rondônia  RO      1100049                 Cacoal  Norte\n",
       "4         11  Rondônia  RO      1100056             Cerejeiras  Norte"
      ]
     },
     "execution_count": 27,
     "metadata": {},
     "output_type": "execute_result"
    }
   ],
   "source": [
    "br_minicipalicites = pd.read_csv(\"../../raw_data/municipality_lookup.csv\")\n",
    "br_minicipalicites.head()"
   ]
  },
  {
   "cell_type": "code",
   "execution_count": 28,
   "id": "02695647",
   "metadata": {},
   "outputs": [],
   "source": [
    "malnutrition_and_population_UF = pd.merge(malnutrition_and_population, br_minicipalicites, on=['Código_IBGE'], how='left')"
   ]
  },
  {
   "cell_type": "code",
   "execution_count": 30,
   "id": "da71c839",
   "metadata": {},
   "outputs": [],
   "source": [
    "malnutrition_and_population_UF = malnutrition_and_population_UF.drop(columns=[\"Estado\",\"UF\", \"Município\",\"Região\"])"
   ]
  },
  {
   "cell_type": "code",
   "execution_count": 31,
   "id": "43e01782",
   "metadata": {},
   "outputs": [
    {
     "data": {
      "text/html": [
       "<div>\n",
       "<style scoped>\n",
       "    .dataframe tbody tr th:only-of-type {\n",
       "        vertical-align: middle;\n",
       "    }\n",
       "\n",
       "    .dataframe tbody tr th {\n",
       "        vertical-align: top;\n",
       "    }\n",
       "\n",
       "    .dataframe thead th {\n",
       "        text-align: right;\n",
       "    }\n",
       "</style>\n",
       "<table border=\"1\" class=\"dataframe\">\n",
       "  <thead>\n",
       "    <tr style=\"text-align: right;\">\n",
       "      <th></th>\n",
       "      <th>Código_IBGE</th>\n",
       "      <th>Ano</th>\n",
       "      <th>Populacao</th>\n",
       "      <th>Magreza_total_%</th>\n",
       "      <th>Código_UF</th>\n",
       "    </tr>\n",
       "  </thead>\n",
       "  <tbody>\n",
       "    <tr>\n",
       "      <th>0</th>\n",
       "      <td>3166600</td>\n",
       "      <td>2021</td>\n",
       "      <td>771</td>\n",
       "      <td>2.70</td>\n",
       "      <td>31</td>\n",
       "    </tr>\n",
       "    <tr>\n",
       "      <th>1</th>\n",
       "      <td>3166600</td>\n",
       "      <td>2020</td>\n",
       "      <td>776</td>\n",
       "      <td>3.50</td>\n",
       "      <td>31</td>\n",
       "    </tr>\n",
       "    <tr>\n",
       "      <th>2</th>\n",
       "      <td>3166600</td>\n",
       "      <td>2019</td>\n",
       "      <td>781</td>\n",
       "      <td>1.59</td>\n",
       "      <td>31</td>\n",
       "    </tr>\n",
       "    <tr>\n",
       "      <th>3</th>\n",
       "      <td>3166600</td>\n",
       "      <td>2018</td>\n",
       "      <td>786</td>\n",
       "      <td>1.67</td>\n",
       "      <td>31</td>\n",
       "    </tr>\n",
       "    <tr>\n",
       "      <th>4</th>\n",
       "      <td>3507209</td>\n",
       "      <td>2011</td>\n",
       "      <td>806</td>\n",
       "      <td>0.00</td>\n",
       "      <td>35</td>\n",
       "    </tr>\n",
       "  </tbody>\n",
       "</table>\n",
       "</div>"
      ],
      "text/plain": [
       "   Código_IBGE   Ano  Populacao  Magreza_total_%  Código_UF\n",
       "0      3166600  2021        771             2.70         31\n",
       "1      3166600  2020        776             3.50         31\n",
       "2      3166600  2019        781             1.59         31\n",
       "3      3166600  2018        786             1.67         31\n",
       "4      3507209  2011        806             0.00         35"
      ]
     },
     "execution_count": 31,
     "metadata": {},
     "output_type": "execute_result"
    }
   ],
   "source": [
    "malnutrition_and_population_UF.head()"
   ]
  },
  {
   "cell_type": "markdown",
   "id": "aa53dc94",
   "metadata": {},
   "source": [
    "### Malnutrition + Population + GDP"
   ]
  },
  {
   "cell_type": "code",
   "execution_count": 32,
   "id": "86ab40cc",
   "metadata": {},
   "outputs": [
    {
     "data": {
      "text/plain": [
       "((83530, 5), (567, 3))"
      ]
     },
     "execution_count": 32,
     "metadata": {},
     "output_type": "execute_result"
    }
   ],
   "source": [
    "malnutrition_and_population_UF.shape, gdp.shape"
   ]
  },
  {
   "cell_type": "code",
   "execution_count": 37,
   "id": "1aa9f47b",
   "metadata": {},
   "outputs": [
    {
     "data": {
      "text/plain": [
       "(27, 27)"
      ]
     },
     "execution_count": 37,
     "metadata": {},
     "output_type": "execute_result"
    }
   ],
   "source": [
    "len(malnutrition_and_population_UF.Código_UF.unique()), len(gdp.Código_UF.unique())"
   ]
  },
  {
   "cell_type": "code",
   "execution_count": 55,
   "id": "3b772fdc",
   "metadata": {},
   "outputs": [],
   "source": [
    "malnutrition_population_gdp_UF = pd.merge(malnutrition_and_population_UF, gdp, on=['Código_UF', 'Ano'], how='inner')"
   ]
  },
  {
   "cell_type": "code",
   "execution_count": 56,
   "id": "6f6b5fb0",
   "metadata": {},
   "outputs": [
    {
     "data": {
      "text/html": [
       "<div>\n",
       "<style scoped>\n",
       "    .dataframe tbody tr th:only-of-type {\n",
       "        vertical-align: middle;\n",
       "    }\n",
       "\n",
       "    .dataframe tbody tr th {\n",
       "        vertical-align: top;\n",
       "    }\n",
       "\n",
       "    .dataframe thead th {\n",
       "        text-align: right;\n",
       "    }\n",
       "</style>\n",
       "<table border=\"1\" class=\"dataframe\">\n",
       "  <thead>\n",
       "    <tr style=\"text-align: right;\">\n",
       "      <th></th>\n",
       "      <th>Código_IBGE</th>\n",
       "      <th>Ano</th>\n",
       "      <th>Populacao</th>\n",
       "      <th>Magreza_total_%</th>\n",
       "      <th>Código_UF</th>\n",
       "      <th>PIB</th>\n",
       "    </tr>\n",
       "  </thead>\n",
       "  <tbody>\n",
       "    <tr>\n",
       "      <th>0</th>\n",
       "      <td>3166600</td>\n",
       "      <td>2020</td>\n",
       "      <td>776</td>\n",
       "      <td>3.50</td>\n",
       "      <td>31</td>\n",
       "      <td>32066.73000</td>\n",
       "    </tr>\n",
       "    <tr>\n",
       "      <th>1</th>\n",
       "      <td>3115607</td>\n",
       "      <td>2020</td>\n",
       "      <td>1157</td>\n",
       "      <td>7.14</td>\n",
       "      <td>31</td>\n",
       "      <td>32066.73000</td>\n",
       "    </tr>\n",
       "    <tr>\n",
       "      <th>2</th>\n",
       "      <td>3127909</td>\n",
       "      <td>2020</td>\n",
       "      <td>1387</td>\n",
       "      <td>4.55</td>\n",
       "      <td>31</td>\n",
       "      <td>32066.73000</td>\n",
       "    </tr>\n",
       "    <tr>\n",
       "      <th>3</th>\n",
       "      <td>3165800</td>\n",
       "      <td>2020</td>\n",
       "      <td>1461</td>\n",
       "      <td>2.70</td>\n",
       "      <td>31</td>\n",
       "      <td>32066.73000</td>\n",
       "    </tr>\n",
       "    <tr>\n",
       "      <th>4</th>\n",
       "      <td>3164803</td>\n",
       "      <td>2020</td>\n",
       "      <td>1492</td>\n",
       "      <td>0.00</td>\n",
       "      <td>31</td>\n",
       "      <td>32066.73000</td>\n",
       "    </tr>\n",
       "    <tr>\n",
       "      <th>...</th>\n",
       "      <td>...</td>\n",
       "      <td>...</td>\n",
       "      <td>...</td>\n",
       "      <td>...</td>\n",
       "      <td>...</td>\n",
       "      <td>...</td>\n",
       "    </tr>\n",
       "    <tr>\n",
       "      <th>72385</th>\n",
       "      <td>5300108</td>\n",
       "      <td>2018</td>\n",
       "      <td>2974703</td>\n",
       "      <td>3.61</td>\n",
       "      <td>53</td>\n",
       "      <td>85661.39366</td>\n",
       "    </tr>\n",
       "    <tr>\n",
       "      <th>72386</th>\n",
       "      <td>5300108</td>\n",
       "      <td>2016</td>\n",
       "      <td>2977216</td>\n",
       "      <td>4.45</td>\n",
       "      <td>53</td>\n",
       "      <td>79114.19420</td>\n",
       "    </tr>\n",
       "    <tr>\n",
       "      <th>72387</th>\n",
       "      <td>5300108</td>\n",
       "      <td>2019</td>\n",
       "      <td>3015268</td>\n",
       "      <td>4.26</td>\n",
       "      <td>53</td>\n",
       "      <td>90742.75039</td>\n",
       "    </tr>\n",
       "    <tr>\n",
       "      <th>72388</th>\n",
       "      <td>5300108</td>\n",
       "      <td>2017</td>\n",
       "      <td>3039444</td>\n",
       "      <td>4.25</td>\n",
       "      <td>53</td>\n",
       "      <td>80515.46577</td>\n",
       "    </tr>\n",
       "    <tr>\n",
       "      <th>72389</th>\n",
       "      <td>5300108</td>\n",
       "      <td>2020</td>\n",
       "      <td>3055149</td>\n",
       "      <td>4.16</td>\n",
       "      <td>53</td>\n",
       "      <td>87016.16000</td>\n",
       "    </tr>\n",
       "  </tbody>\n",
       "</table>\n",
       "<p>72390 rows × 6 columns</p>\n",
       "</div>"
      ],
      "text/plain": [
       "       Código_IBGE   Ano  Populacao  Magreza_total_%  Código_UF          PIB\n",
       "0          3166600  2020        776             3.50         31  32066.73000\n",
       "1          3115607  2020       1157             7.14         31  32066.73000\n",
       "2          3127909  2020       1387             4.55         31  32066.73000\n",
       "3          3165800  2020       1461             2.70         31  32066.73000\n",
       "4          3164803  2020       1492             0.00         31  32066.73000\n",
       "...            ...   ...        ...              ...        ...          ...\n",
       "72385      5300108  2018    2974703             3.61         53  85661.39366\n",
       "72386      5300108  2016    2977216             4.45         53  79114.19420\n",
       "72387      5300108  2019    3015268             4.26         53  90742.75039\n",
       "72388      5300108  2017    3039444             4.25         53  80515.46577\n",
       "72389      5300108  2020    3055149             4.16         53  87016.16000\n",
       "\n",
       "[72390 rows x 6 columns]"
      ]
     },
     "execution_count": 56,
     "metadata": {},
     "output_type": "execute_result"
    }
   ],
   "source": [
    "malnutrition_population_gdp_UF"
   ]
  },
  {
   "cell_type": "markdown",
   "id": "3884b899",
   "metadata": {},
   "source": [
    "### Malnutrition + Population + GDP + poverty"
   ]
  },
  {
   "cell_type": "code",
   "execution_count": 52,
   "id": "ac8ed850",
   "metadata": {},
   "outputs": [
    {
     "data": {
      "text/plain": [
       "27"
      ]
     },
     "execution_count": 52,
     "metadata": {},
     "output_type": "execute_result"
    }
   ],
   "source": [
    "len(malnutrition_population_gdp_UF.Código_UF.unique())"
   ]
  },
  {
   "cell_type": "code",
   "execution_count": 57,
   "id": "29f93e5c",
   "metadata": {},
   "outputs": [],
   "source": [
    "malnutrition_population_gdp_poverty_UF = pd.merge(malnutrition_population_gdp_UF, poverty, on=['Código_UF', 'Ano'], how='inner')"
   ]
  },
  {
   "cell_type": "code",
   "execution_count": 58,
   "id": "cfb00c8a",
   "metadata": {},
   "outputs": [
    {
     "data": {
      "text/html": [
       "<div>\n",
       "<style scoped>\n",
       "    .dataframe tbody tr th:only-of-type {\n",
       "        vertical-align: middle;\n",
       "    }\n",
       "\n",
       "    .dataframe tbody tr th {\n",
       "        vertical-align: top;\n",
       "    }\n",
       "\n",
       "    .dataframe thead th {\n",
       "        text-align: right;\n",
       "    }\n",
       "</style>\n",
       "<table border=\"1\" class=\"dataframe\">\n",
       "  <thead>\n",
       "    <tr style=\"text-align: right;\">\n",
       "      <th></th>\n",
       "      <th>Código_IBGE</th>\n",
       "      <th>Ano</th>\n",
       "      <th>Populacao</th>\n",
       "      <th>Magreza_total_%</th>\n",
       "      <th>Código_UF</th>\n",
       "      <th>PIB</th>\n",
       "      <th>Poverty_%</th>\n",
       "    </tr>\n",
       "  </thead>\n",
       "  <tbody>\n",
       "    <tr>\n",
       "      <th>0</th>\n",
       "      <td>3166600</td>\n",
       "      <td>2020</td>\n",
       "      <td>776</td>\n",
       "      <td>3.50</td>\n",
       "      <td>31</td>\n",
       "      <td>32066.73000</td>\n",
       "      <td>17.06</td>\n",
       "    </tr>\n",
       "    <tr>\n",
       "      <th>1</th>\n",
       "      <td>3115607</td>\n",
       "      <td>2020</td>\n",
       "      <td>1157</td>\n",
       "      <td>7.14</td>\n",
       "      <td>31</td>\n",
       "      <td>32066.73000</td>\n",
       "      <td>17.06</td>\n",
       "    </tr>\n",
       "    <tr>\n",
       "      <th>2</th>\n",
       "      <td>3127909</td>\n",
       "      <td>2020</td>\n",
       "      <td>1387</td>\n",
       "      <td>4.55</td>\n",
       "      <td>31</td>\n",
       "      <td>32066.73000</td>\n",
       "      <td>17.06</td>\n",
       "    </tr>\n",
       "    <tr>\n",
       "      <th>3</th>\n",
       "      <td>3165800</td>\n",
       "      <td>2020</td>\n",
       "      <td>1461</td>\n",
       "      <td>2.70</td>\n",
       "      <td>31</td>\n",
       "      <td>32066.73000</td>\n",
       "      <td>17.06</td>\n",
       "    </tr>\n",
       "    <tr>\n",
       "      <th>4</th>\n",
       "      <td>3164803</td>\n",
       "      <td>2020</td>\n",
       "      <td>1492</td>\n",
       "      <td>0.00</td>\n",
       "      <td>31</td>\n",
       "      <td>32066.73000</td>\n",
       "      <td>17.06</td>\n",
       "    </tr>\n",
       "    <tr>\n",
       "      <th>...</th>\n",
       "      <td>...</td>\n",
       "      <td>...</td>\n",
       "      <td>...</td>\n",
       "      <td>...</td>\n",
       "      <td>...</td>\n",
       "      <td>...</td>\n",
       "      <td>...</td>\n",
       "    </tr>\n",
       "    <tr>\n",
       "      <th>50125</th>\n",
       "      <td>5300108</td>\n",
       "      <td>2018</td>\n",
       "      <td>2974703</td>\n",
       "      <td>3.61</td>\n",
       "      <td>53</td>\n",
       "      <td>85661.39366</td>\n",
       "      <td>13.70</td>\n",
       "    </tr>\n",
       "    <tr>\n",
       "      <th>50126</th>\n",
       "      <td>5300108</td>\n",
       "      <td>2016</td>\n",
       "      <td>2977216</td>\n",
       "      <td>4.45</td>\n",
       "      <td>53</td>\n",
       "      <td>79114.19420</td>\n",
       "      <td>15.16</td>\n",
       "    </tr>\n",
       "    <tr>\n",
       "      <th>50127</th>\n",
       "      <td>5300108</td>\n",
       "      <td>2019</td>\n",
       "      <td>3015268</td>\n",
       "      <td>4.26</td>\n",
       "      <td>53</td>\n",
       "      <td>90742.75039</td>\n",
       "      <td>11.82</td>\n",
       "    </tr>\n",
       "    <tr>\n",
       "      <th>50128</th>\n",
       "      <td>5300108</td>\n",
       "      <td>2017</td>\n",
       "      <td>3039444</td>\n",
       "      <td>4.25</td>\n",
       "      <td>53</td>\n",
       "      <td>80515.46577</td>\n",
       "      <td>15.22</td>\n",
       "    </tr>\n",
       "    <tr>\n",
       "      <th>50129</th>\n",
       "      <td>5300108</td>\n",
       "      <td>2020</td>\n",
       "      <td>3055149</td>\n",
       "      <td>4.16</td>\n",
       "      <td>53</td>\n",
       "      <td>87016.16000</td>\n",
       "      <td>12.38</td>\n",
       "    </tr>\n",
       "  </tbody>\n",
       "</table>\n",
       "<p>50130 rows × 7 columns</p>\n",
       "</div>"
      ],
      "text/plain": [
       "       Código_IBGE   Ano  Populacao  Magreza_total_%  Código_UF          PIB  \\\n",
       "0          3166600  2020        776             3.50         31  32066.73000   \n",
       "1          3115607  2020       1157             7.14         31  32066.73000   \n",
       "2          3127909  2020       1387             4.55         31  32066.73000   \n",
       "3          3165800  2020       1461             2.70         31  32066.73000   \n",
       "4          3164803  2020       1492             0.00         31  32066.73000   \n",
       "...            ...   ...        ...              ...        ...          ...   \n",
       "50125      5300108  2018    2974703             3.61         53  85661.39366   \n",
       "50126      5300108  2016    2977216             4.45         53  79114.19420   \n",
       "50127      5300108  2019    3015268             4.26         53  90742.75039   \n",
       "50128      5300108  2017    3039444             4.25         53  80515.46577   \n",
       "50129      5300108  2020    3055149             4.16         53  87016.16000   \n",
       "\n",
       "       Poverty_%  \n",
       "0          17.06  \n",
       "1          17.06  \n",
       "2          17.06  \n",
       "3          17.06  \n",
       "4          17.06  \n",
       "...          ...  \n",
       "50125      13.70  \n",
       "50126      15.16  \n",
       "50127      11.82  \n",
       "50128      15.22  \n",
       "50129      12.38  \n",
       "\n",
       "[50130 rows x 7 columns]"
      ]
     },
     "execution_count": 58,
     "metadata": {},
     "output_type": "execute_result"
    }
   ],
   "source": [
    "malnutrition_population_gdp_poverty_UF"
   ]
  },
  {
   "cell_type": "markdown",
   "id": "0b88b4ec",
   "metadata": {},
   "source": [
    "### Malnutrition + Population + GDP + poverty + unemployment"
   ]
  },
  {
   "cell_type": "code",
   "execution_count": 59,
   "id": "7e536ce4",
   "metadata": {},
   "outputs": [],
   "source": [
    "socio_economic_data = pd.merge(malnutrition_population_gdp_poverty_UF, unemployment, on=['Código_UF', 'Ano'], how='inner')"
   ]
  },
  {
   "cell_type": "code",
   "execution_count": 61,
   "id": "3f49ef71",
   "metadata": {},
   "outputs": [],
   "source": [
    "socio_economic_data = socio_economic_data.drop(columns=\"Código_UF\")"
   ]
  },
  {
   "cell_type": "code",
   "execution_count": 63,
   "id": "9d84a668",
   "metadata": {},
   "outputs": [
    {
     "data": {
      "text/html": [
       "<div>\n",
       "<style scoped>\n",
       "    .dataframe tbody tr th:only-of-type {\n",
       "        vertical-align: middle;\n",
       "    }\n",
       "\n",
       "    .dataframe tbody tr th {\n",
       "        vertical-align: top;\n",
       "    }\n",
       "\n",
       "    .dataframe thead th {\n",
       "        text-align: right;\n",
       "    }\n",
       "</style>\n",
       "<table border=\"1\" class=\"dataframe\">\n",
       "  <thead>\n",
       "    <tr style=\"text-align: right;\">\n",
       "      <th></th>\n",
       "      <th>Código_IBGE</th>\n",
       "      <th>Ano</th>\n",
       "      <th>Populacao</th>\n",
       "      <th>Magreza_total_%</th>\n",
       "      <th>PIB</th>\n",
       "      <th>Poverty_%</th>\n",
       "      <th>Unemployed_%</th>\n",
       "    </tr>\n",
       "  </thead>\n",
       "  <tbody>\n",
       "    <tr>\n",
       "      <th>0</th>\n",
       "      <td>3166600</td>\n",
       "      <td>2020</td>\n",
       "      <td>776</td>\n",
       "      <td>3.50</td>\n",
       "      <td>32066.73000</td>\n",
       "      <td>17.06</td>\n",
       "      <td>12.475</td>\n",
       "    </tr>\n",
       "    <tr>\n",
       "      <th>1</th>\n",
       "      <td>3115607</td>\n",
       "      <td>2020</td>\n",
       "      <td>1157</td>\n",
       "      <td>7.14</td>\n",
       "      <td>32066.73000</td>\n",
       "      <td>17.06</td>\n",
       "      <td>12.475</td>\n",
       "    </tr>\n",
       "    <tr>\n",
       "      <th>2</th>\n",
       "      <td>3127909</td>\n",
       "      <td>2020</td>\n",
       "      <td>1387</td>\n",
       "      <td>4.55</td>\n",
       "      <td>32066.73000</td>\n",
       "      <td>17.06</td>\n",
       "      <td>12.475</td>\n",
       "    </tr>\n",
       "    <tr>\n",
       "      <th>3</th>\n",
       "      <td>3165800</td>\n",
       "      <td>2020</td>\n",
       "      <td>1461</td>\n",
       "      <td>2.70</td>\n",
       "      <td>32066.73000</td>\n",
       "      <td>17.06</td>\n",
       "      <td>12.475</td>\n",
       "    </tr>\n",
       "    <tr>\n",
       "      <th>4</th>\n",
       "      <td>3164803</td>\n",
       "      <td>2020</td>\n",
       "      <td>1492</td>\n",
       "      <td>0.00</td>\n",
       "      <td>32066.73000</td>\n",
       "      <td>17.06</td>\n",
       "      <td>12.475</td>\n",
       "    </tr>\n",
       "    <tr>\n",
       "      <th>...</th>\n",
       "      <td>...</td>\n",
       "      <td>...</td>\n",
       "      <td>...</td>\n",
       "      <td>...</td>\n",
       "      <td>...</td>\n",
       "      <td>...</td>\n",
       "      <td>...</td>\n",
       "    </tr>\n",
       "    <tr>\n",
       "      <th>50125</th>\n",
       "      <td>5300108</td>\n",
       "      <td>2018</td>\n",
       "      <td>2974703</td>\n",
       "      <td>3.61</td>\n",
       "      <td>85661.39366</td>\n",
       "      <td>13.70</td>\n",
       "      <td>12.725</td>\n",
       "    </tr>\n",
       "    <tr>\n",
       "      <th>50126</th>\n",
       "      <td>5300108</td>\n",
       "      <td>2016</td>\n",
       "      <td>2977216</td>\n",
       "      <td>4.45</td>\n",
       "      <td>79114.19420</td>\n",
       "      <td>15.16</td>\n",
       "      <td>12.000</td>\n",
       "    </tr>\n",
       "    <tr>\n",
       "      <th>50127</th>\n",
       "      <td>5300108</td>\n",
       "      <td>2019</td>\n",
       "      <td>3015268</td>\n",
       "      <td>4.26</td>\n",
       "      <td>90742.75039</td>\n",
       "      <td>11.82</td>\n",
       "      <td>13.375</td>\n",
       "    </tr>\n",
       "    <tr>\n",
       "      <th>50128</th>\n",
       "      <td>5300108</td>\n",
       "      <td>2017</td>\n",
       "      <td>3039444</td>\n",
       "      <td>4.25</td>\n",
       "      <td>80515.46577</td>\n",
       "      <td>15.22</td>\n",
       "      <td>13.175</td>\n",
       "    </tr>\n",
       "    <tr>\n",
       "      <th>50129</th>\n",
       "      <td>5300108</td>\n",
       "      <td>2020</td>\n",
       "      <td>3055149</td>\n",
       "      <td>4.16</td>\n",
       "      <td>87016.16000</td>\n",
       "      <td>12.38</td>\n",
       "      <td>14.750</td>\n",
       "    </tr>\n",
       "  </tbody>\n",
       "</table>\n",
       "<p>50130 rows × 7 columns</p>\n",
       "</div>"
      ],
      "text/plain": [
       "       Código_IBGE   Ano  Populacao  Magreza_total_%          PIB  Poverty_%  \\\n",
       "0          3166600  2020        776             3.50  32066.73000      17.06   \n",
       "1          3115607  2020       1157             7.14  32066.73000      17.06   \n",
       "2          3127909  2020       1387             4.55  32066.73000      17.06   \n",
       "3          3165800  2020       1461             2.70  32066.73000      17.06   \n",
       "4          3164803  2020       1492             0.00  32066.73000      17.06   \n",
       "...            ...   ...        ...              ...          ...        ...   \n",
       "50125      5300108  2018    2974703             3.61  85661.39366      13.70   \n",
       "50126      5300108  2016    2977216             4.45  79114.19420      15.16   \n",
       "50127      5300108  2019    3015268             4.26  90742.75039      11.82   \n",
       "50128      5300108  2017    3039444             4.25  80515.46577      15.22   \n",
       "50129      5300108  2020    3055149             4.16  87016.16000      12.38   \n",
       "\n",
       "       Unemployed_%  \n",
       "0            12.475  \n",
       "1            12.475  \n",
       "2            12.475  \n",
       "3            12.475  \n",
       "4            12.475  \n",
       "...             ...  \n",
       "50125        12.725  \n",
       "50126        12.000  \n",
       "50127        13.375  \n",
       "50128        13.175  \n",
       "50129        14.750  \n",
       "\n",
       "[50130 rows x 7 columns]"
      ]
     },
     "execution_count": 63,
     "metadata": {},
     "output_type": "execute_result"
    }
   ],
   "source": [
    "socio_economic_data = socio_economic_data.dropna()"
   ]
  },
  {
   "cell_type": "code",
   "execution_count": 64,
   "id": "49e4ee1a",
   "metadata": {},
   "outputs": [],
   "source": [
    "file_path = \"../../transformed_data/socio_economic/socioeconomic_ML.csv\"\n",
    "socio_economic_data.to_csv(file_path, index=False)"
   ]
  },
  {
   "cell_type": "code",
   "execution_count": 66,
   "id": "9eef2b6c",
   "metadata": {},
   "outputs": [
    {
     "name": "stdout",
     "output_type": "stream",
     "text": [
      "<class 'pandas.core.frame.DataFrame'>\n",
      "RangeIndex: 50130 entries, 0 to 50129\n",
      "Data columns (total 7 columns):\n",
      " #   Column           Non-Null Count  Dtype  \n",
      "---  ------           --------------  -----  \n",
      " 0   Código_IBGE      50130 non-null  int64  \n",
      " 1   Ano              50130 non-null  int64  \n",
      " 2   Populacao        50130 non-null  int64  \n",
      " 3   Magreza_total_%  50130 non-null  float64\n",
      " 4   PIB              50130 non-null  float64\n",
      " 5   Poverty_%        50130 non-null  float64\n",
      " 6   Unemployed_%     50130 non-null  float64\n",
      "dtypes: float64(4), int64(3)\n",
      "memory usage: 2.7 MB\n"
     ]
    }
   ],
   "source": [
    "pd.read_csv(file_path).info()"
   ]
  },
  {
   "cell_type": "code",
   "execution_count": null,
   "id": "9b7b2bb7",
   "metadata": {},
   "outputs": [],
   "source": []
  }
 ],
 "metadata": {
  "kernelspec": {
   "display_name": "Python 3 (ipykernel)",
   "language": "python",
   "name": "python3"
  },
  "language_info": {
   "codemirror_mode": {
    "name": "ipython",
    "version": 3
   },
   "file_extension": ".py",
   "mimetype": "text/x-python",
   "name": "python",
   "nbconvert_exporter": "python",
   "pygments_lexer": "ipython3",
   "version": "3.10.6"
  }
 },
 "nbformat": 4,
 "nbformat_minor": 5
}
