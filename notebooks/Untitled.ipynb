{
 "cells": [
  {
   "cell_type": "markdown",
   "id": "4b1c4eff-3eac-467b-b3f8-a26e9bb13ce6",
   "metadata": {},
   "source": [
    "Funding and Population Merge"
   ]
  },
  {
   "cell_type": "code",
   "execution_count": 2,
   "id": "9d8b76ef-7029-4679-b1e8-86924712d92c",
   "metadata": {},
   "outputs": [],
   "source": [
    "import pandas as pd"
   ]
  },
  {
   "cell_type": "code",
   "execution_count": 18,
   "id": "7d516c10-e078-4a5f-aa9b-7458fb218675",
   "metadata": {},
   "outputs": [],
   "source": [
    "Funding = pd.read_csv('../transformed_data/funding_per_municipality.csv')"
   ]
  },
  {
   "cell_type": "code",
   "execution_count": 15,
   "id": "6f3526e7-bf5a-402d-b94a-fe1537c088c4",
   "metadata": {},
   "outputs": [],
   "source": [
    "Population = pd.read_csv('../transformed_data/population_per_municipality.csv', sep=';')"
   ]
  },
  {
   "cell_type": "code",
   "execution_count": 22,
   "id": "853b0424-2ce7-4e9e-91a3-43ecdd449097",
   "metadata": {},
   "outputs": [],
   "source": [
    "merged_df = pd.merge(Population, Funding, on=['Ano', 'Código_IBGE'], how='outer')"
   ]
  },
  {
   "cell_type": "code",
   "execution_count": null,
   "id": "f80ede4e-ab7b-4a29-b6a6-9a4f34c9f82a",
   "metadata": {},
   "outputs": [],
   "source": [
    "file_path = \"../transformed_data/funding_and_populati.csv\"\n",
    "df.to_csv(file_path, index=False)"
   ]
  },
  {
   "cell_type": "code",
   "execution_count": null,
   "id": "a60da196-8dbf-49de-a173-c85c96788940",
   "metadata": {},
   "outputs": [],
   "source": []
  }
 ],
 "metadata": {
  "kernelspec": {
   "display_name": "Python 3 (ipykernel)",
   "language": "python",
   "name": "python3"
  },
  "language_info": {
   "codemirror_mode": {
    "name": "ipython",
    "version": 3
   },
   "file_extension": ".py",
   "mimetype": "text/x-python",
   "name": "python",
   "nbconvert_exporter": "python",
   "pygments_lexer": "ipython3",
   "version": "3.10.6"
  }
 },
 "nbformat": 4,
 "nbformat_minor": 5
}
