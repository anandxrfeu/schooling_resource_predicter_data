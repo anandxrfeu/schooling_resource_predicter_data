{
 "cells": [
  {
   "cell_type": "markdown",
   "id": "380e7306",
   "metadata": {},
   "source": [
    "# Internet Access"
   ]
  },
  {
   "cell_type": "code",
   "execution_count": 1,
   "id": "7a3423d7",
   "metadata": {},
   "outputs": [],
   "source": [
    "import pandas as pd"
   ]
  },
  {
   "cell_type": "code",
   "execution_count": 3,
   "id": "de7fbf7c",
   "metadata": {},
   "outputs": [
    {
     "data": {
      "text/html": [
       "<div>\n",
       "<style scoped>\n",
       "    .dataframe tbody tr th:only-of-type {\n",
       "        vertical-align: middle;\n",
       "    }\n",
       "\n",
       "    .dataframe tbody tr th {\n",
       "        vertical-align: top;\n",
       "    }\n",
       "\n",
       "    .dataframe thead th {\n",
       "        text-align: right;\n",
       "    }\n",
       "</style>\n",
       "<table border=\"1\" class=\"dataframe\">\n",
       "  <thead>\n",
       "    <tr style=\"text-align: right;\">\n",
       "      <th></th>\n",
       "      <th>Ano</th>\n",
       "      <th>Regiao</th>\n",
       "      <th>Acesso a internet %</th>\n",
       "    </tr>\n",
       "  </thead>\n",
       "  <tbody>\n",
       "    <tr>\n",
       "      <th>0</th>\n",
       "      <td>2008</td>\n",
       "      <td>SUDESTE</td>\n",
       "      <td>25</td>\n",
       "    </tr>\n",
       "    <tr>\n",
       "      <th>1</th>\n",
       "      <td>2008</td>\n",
       "      <td>NORDESTE</td>\n",
       "      <td>7</td>\n",
       "    </tr>\n",
       "    <tr>\n",
       "      <th>2</th>\n",
       "      <td>2008</td>\n",
       "      <td>SUL</td>\n",
       "      <td>20</td>\n",
       "    </tr>\n",
       "    <tr>\n",
       "      <th>3</th>\n",
       "      <td>2008</td>\n",
       "      <td>NORTE</td>\n",
       "      <td>7</td>\n",
       "    </tr>\n",
       "    <tr>\n",
       "      <th>4</th>\n",
       "      <td>2008</td>\n",
       "      <td>CENTRO-OESTE</td>\n",
       "      <td>21</td>\n",
       "    </tr>\n",
       "    <tr>\n",
       "      <th>...</th>\n",
       "      <td>...</td>\n",
       "      <td>...</td>\n",
       "      <td>...</td>\n",
       "    </tr>\n",
       "    <tr>\n",
       "      <th>70</th>\n",
       "      <td>2022</td>\n",
       "      <td>SUDESTE</td>\n",
       "      <td>82</td>\n",
       "    </tr>\n",
       "    <tr>\n",
       "      <th>71</th>\n",
       "      <td>2022</td>\n",
       "      <td>NORDESTE</td>\n",
       "      <td>78</td>\n",
       "    </tr>\n",
       "    <tr>\n",
       "      <th>72</th>\n",
       "      <td>2022</td>\n",
       "      <td>SUL</td>\n",
       "      <td>81</td>\n",
       "    </tr>\n",
       "    <tr>\n",
       "      <th>73</th>\n",
       "      <td>2022</td>\n",
       "      <td>NORTE</td>\n",
       "      <td>76</td>\n",
       "    </tr>\n",
       "    <tr>\n",
       "      <th>74</th>\n",
       "      <td>2022</td>\n",
       "      <td>CENTRO-OESTE</td>\n",
       "      <td>83</td>\n",
       "    </tr>\n",
       "  </tbody>\n",
       "</table>\n",
       "<p>75 rows × 3 columns</p>\n",
       "</div>"
      ],
      "text/plain": [
       "     Ano        Regiao  Acesso a internet %\n",
       "0   2008       SUDESTE                   25\n",
       "1   2008      NORDESTE                    7\n",
       "2   2008           SUL                   20\n",
       "3   2008         NORTE                    7\n",
       "4   2008  CENTRO-OESTE                   21\n",
       "..   ...           ...                  ...\n",
       "70  2022       SUDESTE                   82\n",
       "71  2022      NORDESTE                   78\n",
       "72  2022           SUL                   81\n",
       "73  2022         NORTE                   76\n",
       "74  2022  CENTRO-OESTE                   83\n",
       "\n",
       "[75 rows x 3 columns]"
      ]
     },
     "execution_count": 3,
     "metadata": {},
     "output_type": "execute_result"
    }
   ],
   "source": [
    "internet_access = pd.read_csv(\"../raw_data/internet_access.csv\", sep=\";\")\n",
    "internet_access"
   ]
  },
  {
   "cell_type": "code",
   "execution_count": 4,
   "id": "8ff874c6",
   "metadata": {},
   "outputs": [
    {
     "data": {
      "text/plain": [
       "array(['SUDESTE', 'NORDESTE', 'SUL', 'NORTE', 'CENTRO-OESTE'],\n",
       "      dtype=object)"
      ]
     },
     "execution_count": 4,
     "metadata": {},
     "output_type": "execute_result"
    }
   ],
   "source": [
    "internet_access.Regiao.unique()"
   ]
  },
  {
   "cell_type": "code",
   "execution_count": 5,
   "id": "7f065d83",
   "metadata": {},
   "outputs": [],
   "source": [
    "internet_access.Regiao = internet_access.Regiao.str.replace('SUDESTE', 'Sudeste')\n",
    "internet_access.Regiao = internet_access.Regiao.str.replace('NORDESTE', 'Nordeste')\n",
    "internet_access.Regiao = internet_access.Regiao.str.replace('SUL', 'Sul')\n",
    "internet_access.Regiao = internet_access.Regiao.str.replace('CENTRO-OESTE', 'Centro Oeste')\n",
    "internet_access.Regiao = internet_access.Regiao.str.replace('NORTE', 'Norte')"
   ]
  },
  {
   "cell_type": "code",
   "execution_count": 6,
   "id": "4b046144",
   "metadata": {},
   "outputs": [
    {
     "data": {
      "text/plain": [
       "['Centro Oeste', 'Nordeste', 'Norte', 'Sudeste', 'Sul']"
      ]
     },
     "execution_count": 6,
     "metadata": {},
     "output_type": "execute_result"
    }
   ],
   "source": [
    "sorted(internet_access.Regiao.unique())"
   ]
  },
  {
   "cell_type": "code",
   "execution_count": 7,
   "id": "818730cf",
   "metadata": {},
   "outputs": [
    {
     "data": {
      "text/html": [
       "<div>\n",
       "<style scoped>\n",
       "    .dataframe tbody tr th:only-of-type {\n",
       "        vertical-align: middle;\n",
       "    }\n",
       "\n",
       "    .dataframe tbody tr th {\n",
       "        vertical-align: top;\n",
       "    }\n",
       "\n",
       "    .dataframe thead th {\n",
       "        text-align: right;\n",
       "    }\n",
       "</style>\n",
       "<table border=\"1\" class=\"dataframe\">\n",
       "  <thead>\n",
       "    <tr style=\"text-align: right;\">\n",
       "      <th></th>\n",
       "      <th>Ano</th>\n",
       "      <th>Região</th>\n",
       "      <th>Acesso a internet %</th>\n",
       "    </tr>\n",
       "  </thead>\n",
       "  <tbody>\n",
       "    <tr>\n",
       "      <th>0</th>\n",
       "      <td>2008</td>\n",
       "      <td>Sudeste</td>\n",
       "      <td>25</td>\n",
       "    </tr>\n",
       "    <tr>\n",
       "      <th>1</th>\n",
       "      <td>2008</td>\n",
       "      <td>Nordeste</td>\n",
       "      <td>7</td>\n",
       "    </tr>\n",
       "    <tr>\n",
       "      <th>2</th>\n",
       "      <td>2008</td>\n",
       "      <td>Sul</td>\n",
       "      <td>20</td>\n",
       "    </tr>\n",
       "    <tr>\n",
       "      <th>3</th>\n",
       "      <td>2008</td>\n",
       "      <td>Norte</td>\n",
       "      <td>7</td>\n",
       "    </tr>\n",
       "    <tr>\n",
       "      <th>4</th>\n",
       "      <td>2008</td>\n",
       "      <td>Centro Oeste</td>\n",
       "      <td>21</td>\n",
       "    </tr>\n",
       "    <tr>\n",
       "      <th>...</th>\n",
       "      <td>...</td>\n",
       "      <td>...</td>\n",
       "      <td>...</td>\n",
       "    </tr>\n",
       "    <tr>\n",
       "      <th>70</th>\n",
       "      <td>2022</td>\n",
       "      <td>Sudeste</td>\n",
       "      <td>82</td>\n",
       "    </tr>\n",
       "    <tr>\n",
       "      <th>71</th>\n",
       "      <td>2022</td>\n",
       "      <td>Nordeste</td>\n",
       "      <td>78</td>\n",
       "    </tr>\n",
       "    <tr>\n",
       "      <th>72</th>\n",
       "      <td>2022</td>\n",
       "      <td>Sul</td>\n",
       "      <td>81</td>\n",
       "    </tr>\n",
       "    <tr>\n",
       "      <th>73</th>\n",
       "      <td>2022</td>\n",
       "      <td>Norte</td>\n",
       "      <td>76</td>\n",
       "    </tr>\n",
       "    <tr>\n",
       "      <th>74</th>\n",
       "      <td>2022</td>\n",
       "      <td>Centro Oeste</td>\n",
       "      <td>83</td>\n",
       "    </tr>\n",
       "  </tbody>\n",
       "</table>\n",
       "<p>75 rows × 3 columns</p>\n",
       "</div>"
      ],
      "text/plain": [
       "     Ano        Região  Acesso a internet %\n",
       "0   2008       Sudeste                   25\n",
       "1   2008      Nordeste                    7\n",
       "2   2008           Sul                   20\n",
       "3   2008         Norte                    7\n",
       "4   2008  Centro Oeste                   21\n",
       "..   ...           ...                  ...\n",
       "70  2022       Sudeste                   82\n",
       "71  2022      Nordeste                   78\n",
       "72  2022           Sul                   81\n",
       "73  2022         Norte                   76\n",
       "74  2022  Centro Oeste                   83\n",
       "\n",
       "[75 rows x 3 columns]"
      ]
     },
     "execution_count": 7,
     "metadata": {},
     "output_type": "execute_result"
    }
   ],
   "source": [
    "internet_access = internet_access.rename(columns={\n",
    "    'Regiao': 'Região'\n",
    "})\n",
    "internet_access"
   ]
  },
  {
   "cell_type": "code",
   "execution_count": 8,
   "id": "c8d2392b",
   "metadata": {},
   "outputs": [],
   "source": [
    "# All expanded\n",
    "file_path = \"../transformed_data/acess_to_internet.csv\"\n",
    "internet_access.to_csv(file_path, index=False)"
   ]
  },
  {
   "cell_type": "code",
   "execution_count": null,
   "id": "f340f160",
   "metadata": {},
   "outputs": [],
   "source": []
  }
 ],
 "metadata": {
  "kernelspec": {
   "display_name": "Python 3 (ipykernel)",
   "language": "python",
   "name": "python3"
  },
  "language_info": {
   "codemirror_mode": {
    "name": "ipython",
    "version": 3
   },
   "file_extension": ".py",
   "mimetype": "text/x-python",
   "name": "python",
   "nbconvert_exporter": "python",
   "pygments_lexer": "ipython3",
   "version": "3.10.6"
  }
 },
 "nbformat": 4,
 "nbformat_minor": 5
}
