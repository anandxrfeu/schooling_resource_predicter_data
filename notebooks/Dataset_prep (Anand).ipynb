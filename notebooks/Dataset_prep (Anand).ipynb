{
 "cells": [
  {
   "cell_type": "markdown",
   "id": "0ea8c1dc",
   "metadata": {},
   "source": [
    "## School performance dataset"
   ]
  },
  {
   "cell_type": "code",
   "execution_count": 1,
   "id": "31bbec02",
   "metadata": {},
   "outputs": [],
   "source": [
    "import pandas as pd"
   ]
  },
  {
   "cell_type": "code",
   "execution_count": 2,
   "id": "b59609c6",
   "metadata": {
    "scrolled": true
   },
   "outputs": [],
   "source": [
    "performance_df = pd.read_csv(\"../transformed_data/school_performance_per_municipality.csv\")"
   ]
  },
  {
   "cell_type": "code",
   "execution_count": 3,
   "id": "5e59221c",
   "metadata": {},
   "outputs": [
    {
     "data": {
      "text/html": [
       "<div>\n",
       "<style scoped>\n",
       "    .dataframe tbody tr th:only-of-type {\n",
       "        vertical-align: middle;\n",
       "    }\n",
       "\n",
       "    .dataframe tbody tr th {\n",
       "        vertical-align: top;\n",
       "    }\n",
       "\n",
       "    .dataframe thead th {\n",
       "        text-align: right;\n",
       "    }\n",
       "</style>\n",
       "<table border=\"1\" class=\"dataframe\">\n",
       "  <thead>\n",
       "    <tr style=\"text-align: right;\">\n",
       "      <th></th>\n",
       "      <th>Ano</th>\n",
       "      <th>Código_IBGE</th>\n",
       "      <th>Localização</th>\n",
       "      <th>Aprovação</th>\n",
       "      <th>Reprovação</th>\n",
       "      <th>Abandono</th>\n",
       "    </tr>\n",
       "  </thead>\n",
       "  <tbody>\n",
       "    <tr>\n",
       "      <th>0</th>\n",
       "      <td>2008</td>\n",
       "      <td>1100015</td>\n",
       "      <td>Rural</td>\n",
       "      <td>--</td>\n",
       "      <td>--</td>\n",
       "      <td>--</td>\n",
       "    </tr>\n",
       "    <tr>\n",
       "      <th>1</th>\n",
       "      <td>2008</td>\n",
       "      <td>1100023</td>\n",
       "      <td>Rural</td>\n",
       "      <td>--</td>\n",
       "      <td>--</td>\n",
       "      <td>--</td>\n",
       "    </tr>\n",
       "    <tr>\n",
       "      <th>2</th>\n",
       "      <td>2008</td>\n",
       "      <td>1100049</td>\n",
       "      <td>Rural</td>\n",
       "      <td>--</td>\n",
       "      <td>--</td>\n",
       "      <td>--</td>\n",
       "    </tr>\n",
       "    <tr>\n",
       "      <th>3</th>\n",
       "      <td>2008</td>\n",
       "      <td>1100056</td>\n",
       "      <td>Rural</td>\n",
       "      <td>--</td>\n",
       "      <td>--</td>\n",
       "      <td>--</td>\n",
       "    </tr>\n",
       "    <tr>\n",
       "      <th>4</th>\n",
       "      <td>2008</td>\n",
       "      <td>1100064</td>\n",
       "      <td>Rural</td>\n",
       "      <td>77.7</td>\n",
       "      <td>22</td>\n",
       "      <td>0.3</td>\n",
       "    </tr>\n",
       "    <tr>\n",
       "      <th>...</th>\n",
       "      <td>...</td>\n",
       "      <td>...</td>\n",
       "      <td>...</td>\n",
       "      <td>...</td>\n",
       "      <td>...</td>\n",
       "      <td>...</td>\n",
       "    </tr>\n",
       "    <tr>\n",
       "      <th>150498</th>\n",
       "      <td>2022</td>\n",
       "      <td>5222005</td>\n",
       "      <td>Urbana</td>\n",
       "      <td>99.2</td>\n",
       "      <td>0.8</td>\n",
       "      <td>0.0</td>\n",
       "    </tr>\n",
       "    <tr>\n",
       "      <th>150499</th>\n",
       "      <td>2022</td>\n",
       "      <td>5222054</td>\n",
       "      <td>Urbana</td>\n",
       "      <td>99.3</td>\n",
       "      <td>0.7</td>\n",
       "      <td>0.0</td>\n",
       "    </tr>\n",
       "    <tr>\n",
       "      <th>150500</th>\n",
       "      <td>2022</td>\n",
       "      <td>5222203</td>\n",
       "      <td>Urbana</td>\n",
       "      <td>100.0</td>\n",
       "      <td>0.0</td>\n",
       "      <td>0.0</td>\n",
       "    </tr>\n",
       "    <tr>\n",
       "      <th>150501</th>\n",
       "      <td>2022</td>\n",
       "      <td>5222302</td>\n",
       "      <td>Urbana</td>\n",
       "      <td>90.5</td>\n",
       "      <td>5.2</td>\n",
       "      <td>4.3</td>\n",
       "    </tr>\n",
       "    <tr>\n",
       "      <th>150502</th>\n",
       "      <td>2022</td>\n",
       "      <td>5300108</td>\n",
       "      <td>Urbana</td>\n",
       "      <td>85.5</td>\n",
       "      <td>9.8</td>\n",
       "      <td>4.7</td>\n",
       "    </tr>\n",
       "  </tbody>\n",
       "</table>\n",
       "<p>150503 rows × 6 columns</p>\n",
       "</div>"
      ],
      "text/plain": [
       "         Ano  Código_IBGE Localização Aprovação Reprovação Abandono\n",
       "0       2008      1100015       Rural        --         --       --\n",
       "1       2008      1100023       Rural        --         --       --\n",
       "2       2008      1100049       Rural        --         --       --\n",
       "3       2008      1100056       Rural        --         --       --\n",
       "4       2008      1100064       Rural      77.7         22      0.3\n",
       "...      ...          ...         ...       ...        ...      ...\n",
       "150498  2022      5222005      Urbana      99.2        0.8      0.0\n",
       "150499  2022      5222054      Urbana      99.3        0.7      0.0\n",
       "150500  2022      5222203      Urbana     100.0        0.0      0.0\n",
       "150501  2022      5222302      Urbana      90.5        5.2      4.3\n",
       "150502  2022      5300108      Urbana      85.5        9.8      4.7\n",
       "\n",
       "[150503 rows x 6 columns]"
      ]
     },
     "execution_count": 3,
     "metadata": {},
     "output_type": "execute_result"
    }
   ],
   "source": [
    "performance_df"
   ]
  },
  {
   "cell_type": "code",
   "execution_count": null,
   "id": "c5e77cfa",
   "metadata": {},
   "outputs": [],
   "source": [
    "performance_df.info()"
   ]
  },
  {
   "cell_type": "markdown",
   "id": "2a88df76",
   "metadata": {},
   "source": [
    "## School infrastructure dataset"
   ]
  },
  {
   "cell_type": "code",
   "execution_count": null,
   "id": "451de167",
   "metadata": {
    "scrolled": true
   },
   "outputs": [],
   "source": [
    "infrastructure_df = pd.read_csv(\"../transformed_data/school_infrastructure_per_municipality.csv\")"
   ]
  },
  {
   "cell_type": "code",
   "execution_count": null,
   "id": "2b07148a",
   "metadata": {},
   "outputs": [],
   "source": [
    "infrastructure_df"
   ]
  },
  {
   "cell_type": "code",
   "execution_count": null,
   "id": "529234f4",
   "metadata": {},
   "outputs": [],
   "source": [
    "infrastructure_df.info()"
   ]
  },
  {
   "cell_type": "code",
   "execution_count": null,
   "id": "514cc48b",
   "metadata": {},
   "outputs": [],
   "source": [
    "performance_name_list = list(performance_df['Nome do Município'].unique())\n",
    "infra_name_list = list(infrastructure_df['Município'].unique())\n",
    "check_equal_lists(performance_name_list, infra_name_list)"
   ]
  },
  {
   "cell_type": "code",
   "execution_count": null,
   "id": "5954cbe2",
   "metadata": {},
   "outputs": [],
   "source": []
  },
  {
   "cell_type": "markdown",
   "id": "6bbc6265",
   "metadata": {},
   "source": [
    "## Combine school performance and infra datasets"
   ]
  },
  {
   "cell_type": "markdown",
   "id": "62d3517a",
   "metadata": {},
   "source": [
    "### Check is primary keys are same of subsets of one another"
   ]
  },
  {
   "cell_type": "code",
   "execution_count": 8,
   "id": "f36cf6ab",
   "metadata": {},
   "outputs": [],
   "source": [
    "def check_equal_lists(list1, list2):\n",
    "    return sorted(list1) == sorted(list2)"
   ]
  },
  {
   "cell_type": "markdown",
   "id": "8a5d2392",
   "metadata": {},
   "source": [
    "#### IBGE"
   ]
  },
  {
   "cell_type": "code",
   "execution_count": 10,
   "id": "7f7ffc9f",
   "metadata": {},
   "outputs": [],
   "source": [
    "performance_ibge_code = list(performance_df['Código_IBGE'].unique())"
   ]
  },
  {
   "cell_type": "code",
   "execution_count": null,
   "id": "cbeabc64",
   "metadata": {},
   "outputs": [],
   "source": [
    "infra_ibge_code = list(infrastructure_df['Código_IBGE'].unique())"
   ]
  },
  {
   "cell_type": "code",
   "execution_count": null,
   "id": "3a0a5954",
   "metadata": {},
   "outputs": [],
   "source": [
    "check_equal_lists(performance_ibge_code, infra_ibge_code)"
   ]
  },
  {
   "cell_type": "code",
   "execution_count": null,
   "id": "e6ff6245",
   "metadata": {},
   "outputs": [],
   "source": [
    "len(performance_ibge_code), len(infra_ibge_code)"
   ]
  },
  {
   "cell_type": "markdown",
   "id": "1bc32478",
   "metadata": {},
   "source": [
    "#### Ano"
   ]
  },
  {
   "cell_type": "code",
   "execution_count": null,
   "id": "c644f1f6",
   "metadata": {},
   "outputs": [],
   "source": [
    "performance_years = list(performance_df['Ano'].unique())\n",
    "performance_years.sort()\n",
    "performance_years"
   ]
  },
  {
   "cell_type": "code",
   "execution_count": null,
   "id": "27e53755",
   "metadata": {},
   "outputs": [],
   "source": [
    "infra_years = list(infrastructure_df['Ano'].unique())\n",
    "infra_years.sort()\n",
    "infra_years"
   ]
  },
  {
   "cell_type": "code",
   "execution_count": null,
   "id": "63d7f599",
   "metadata": {},
   "outputs": [],
   "source": [
    "check_equal_lists(performance_years, infra_years)"
   ]
  },
  {
   "cell_type": "code",
   "execution_count": null,
   "id": "5b078448",
   "metadata": {},
   "outputs": [],
   "source": [
    "len(performance_years), len(infra_years)"
   ]
  },
  {
   "cell_type": "markdown",
   "id": "a865e03b",
   "metadata": {},
   "source": [
    "#### Remove infra data for year 2007"
   ]
  },
  {
   "cell_type": "code",
   "execution_count": null,
   "id": "f4f4443e",
   "metadata": {},
   "outputs": [],
   "source": [
    "infrastructure_df = infrastructure_df[infrastructure_df.Ano != 2007]"
   ]
  },
  {
   "cell_type": "code",
   "execution_count": null,
   "id": "ce144f77",
   "metadata": {},
   "outputs": [],
   "source": [
    "infra_years = list(infrastructure_df['Ano'].unique())"
   ]
  },
  {
   "cell_type": "code",
   "execution_count": null,
   "id": "9abd0244",
   "metadata": {},
   "outputs": [],
   "source": [
    "len(performance_years), len(infra_years)"
   ]
  },
  {
   "cell_type": "code",
   "execution_count": null,
   "id": "c3237148",
   "metadata": {},
   "outputs": [],
   "source": [
    "performance_df.columns"
   ]
  },
  {
   "cell_type": "code",
   "execution_count": null,
   "id": "9cdbcb20",
   "metadata": {},
   "outputs": [],
   "source": [
    "school_merged_df = pd.merge(performance_df, infrastructure_df, on=['Ano', 'Código_IBGE', 'Localização'], how='outer')"
   ]
  },
  {
   "cell_type": "code",
   "execution_count": null,
   "id": "61143dd0",
   "metadata": {},
   "outputs": [],
   "source": [
    "len(school_merged_df.Código_IBGE.unique())"
   ]
  },
  {
   "cell_type": "code",
   "execution_count": null,
   "id": "d8539b54",
   "metadata": {},
   "outputs": [],
   "source": [
    "# Write the combined DataFrame to a new CSV file\n",
    "file_path = \"../transformed_data/school_infrastructure_and_performance.csv\"\n",
    "school_merged_df.to_csv(file_path, index=False)"
   ]
  },
  {
   "cell_type": "code",
   "execution_count": null,
   "id": "a14c2199",
   "metadata": {},
   "outputs": [],
   "source": []
  },
  {
   "cell_type": "markdown",
   "id": "82fb9433",
   "metadata": {},
   "source": [
    "## Funding Dataset"
   ]
  },
  {
   "cell_type": "code",
   "execution_count": 24,
   "id": "887f1e0c",
   "metadata": {},
   "outputs": [],
   "source": [
    "funding_df = pd.read_csv(\"../transformed_data/funding_per_municipality.csv\")"
   ]
  },
  {
   "cell_type": "code",
   "execution_count": 25,
   "id": "2b1e7290",
   "metadata": {},
   "outputs": [
    {
     "data": {
      "text/html": [
       "<div>\n",
       "<style scoped>\n",
       "    .dataframe tbody tr th:only-of-type {\n",
       "        vertical-align: middle;\n",
       "    }\n",
       "\n",
       "    .dataframe tbody tr th {\n",
       "        vertical-align: top;\n",
       "    }\n",
       "\n",
       "    .dataframe thead th {\n",
       "        text-align: right;\n",
       "    }\n",
       "</style>\n",
       "<table border=\"1\" class=\"dataframe\">\n",
       "  <thead>\n",
       "    <tr style=\"text-align: right;\">\n",
       "      <th></th>\n",
       "      <th>Ano</th>\n",
       "      <th>Código_IBGE</th>\n",
       "      <th>Valor_Consolidado</th>\n",
       "    </tr>\n",
       "  </thead>\n",
       "  <tbody>\n",
       "    <tr>\n",
       "      <th>0</th>\n",
       "      <td>2008</td>\n",
       "      <td>5200050</td>\n",
       "      <td>1755502.19</td>\n",
       "    </tr>\n",
       "    <tr>\n",
       "      <th>1</th>\n",
       "      <td>2009</td>\n",
       "      <td>5200050</td>\n",
       "      <td>1880883.04</td>\n",
       "    </tr>\n",
       "    <tr>\n",
       "      <th>2</th>\n",
       "      <td>2010</td>\n",
       "      <td>5200050</td>\n",
       "      <td>2324131.10</td>\n",
       "    </tr>\n",
       "    <tr>\n",
       "      <th>3</th>\n",
       "      <td>2011</td>\n",
       "      <td>5200050</td>\n",
       "      <td>2850424.86</td>\n",
       "    </tr>\n",
       "    <tr>\n",
       "      <th>4</th>\n",
       "      <td>2012</td>\n",
       "      <td>5200050</td>\n",
       "      <td>3758558.91</td>\n",
       "    </tr>\n",
       "    <tr>\n",
       "      <th>...</th>\n",
       "      <td>...</td>\n",
       "      <td>...</td>\n",
       "      <td>...</td>\n",
       "    </tr>\n",
       "    <tr>\n",
       "      <th>83485</th>\n",
       "      <td>2018</td>\n",
       "      <td>3533809</td>\n",
       "      <td>1285260.97</td>\n",
       "    </tr>\n",
       "    <tr>\n",
       "      <th>83486</th>\n",
       "      <td>2019</td>\n",
       "      <td>3533809</td>\n",
       "      <td>1565105.07</td>\n",
       "    </tr>\n",
       "    <tr>\n",
       "      <th>83487</th>\n",
       "      <td>2020</td>\n",
       "      <td>3533809</td>\n",
       "      <td>1425284.00</td>\n",
       "    </tr>\n",
       "    <tr>\n",
       "      <th>83488</th>\n",
       "      <td>2021</td>\n",
       "      <td>3533809</td>\n",
       "      <td>1691621.32</td>\n",
       "    </tr>\n",
       "    <tr>\n",
       "      <th>83489</th>\n",
       "      <td>2022</td>\n",
       "      <td>3533809</td>\n",
       "      <td>1729157.99</td>\n",
       "    </tr>\n",
       "  </tbody>\n",
       "</table>\n",
       "<p>83490 rows × 3 columns</p>\n",
       "</div>"
      ],
      "text/plain": [
       "        Ano  Código_IBGE  Valor_Consolidado\n",
       "0      2008      5200050         1755502.19\n",
       "1      2009      5200050         1880883.04\n",
       "2      2010      5200050         2324131.10\n",
       "3      2011      5200050         2850424.86\n",
       "4      2012      5200050         3758558.91\n",
       "...     ...          ...                ...\n",
       "83485  2018      3533809         1285260.97\n",
       "83486  2019      3533809         1565105.07\n",
       "83487  2020      3533809         1425284.00\n",
       "83488  2021      3533809         1691621.32\n",
       "83489  2022      3533809         1729157.99\n",
       "\n",
       "[83490 rows x 3 columns]"
      ]
     },
     "execution_count": 25,
     "metadata": {},
     "output_type": "execute_result"
    }
   ],
   "source": [
    "funding_df"
   ]
  },
  {
   "cell_type": "code",
   "execution_count": 6,
   "id": "92622a1a",
   "metadata": {},
   "outputs": [],
   "source": [
    "funding_list = list(funding_df['Código_IBGE'].unique())"
   ]
  },
  {
   "cell_type": "code",
   "execution_count": 11,
   "id": "d4b5edd6",
   "metadata": {},
   "outputs": [
    {
     "data": {
      "text/plain": [
       "False"
      ]
     },
     "execution_count": 11,
     "metadata": {},
     "output_type": "execute_result"
    }
   ],
   "source": [
    "check_equal_lists(performance_ibge_code, funding_list)"
   ]
  },
  {
   "cell_type": "code",
   "execution_count": 13,
   "id": "a1e9310e",
   "metadata": {},
   "outputs": [
    {
     "data": {
      "text/plain": [
       "(5570, 5569)"
      ]
     },
     "execution_count": 13,
     "metadata": {},
     "output_type": "execute_result"
    }
   ],
   "source": [
    "len(performance_ibge_code), len(funding_list)"
   ]
  },
  {
   "cell_type": "code",
   "execution_count": 14,
   "id": "81e0059b",
   "metadata": {},
   "outputs": [],
   "source": [
    "def is_subset(list1, list2):\n",
    "    return set(list1).issubset(set(list2))\n"
   ]
  },
  {
   "cell_type": "code",
   "execution_count": 15,
   "id": "c91699f6",
   "metadata": {},
   "outputs": [
    {
     "data": {
      "text/plain": [
       "True"
      ]
     },
     "execution_count": 15,
     "metadata": {},
     "output_type": "execute_result"
    }
   ],
   "source": [
    "is_subset(funding_list, performance_ibge_code)"
   ]
  },
  {
   "cell_type": "code",
   "execution_count": null,
   "id": "0ebb0059",
   "metadata": {},
   "outputs": [],
   "source": []
  },
  {
   "cell_type": "markdown",
   "id": "65de3816",
   "metadata": {},
   "source": [
    "## Population dataset"
   ]
  },
  {
   "cell_type": "code",
   "execution_count": null,
   "id": "9e47fe73",
   "metadata": {},
   "outputs": [],
   "source": []
  },
  {
   "cell_type": "code",
   "execution_count": 17,
   "id": "fdfd8af8",
   "metadata": {},
   "outputs": [
    {
     "data": {
      "text/html": [
       "<div>\n",
       "<style scoped>\n",
       "    .dataframe tbody tr th:only-of-type {\n",
       "        vertical-align: middle;\n",
       "    }\n",
       "\n",
       "    .dataframe tbody tr th {\n",
       "        vertical-align: top;\n",
       "    }\n",
       "\n",
       "    .dataframe thead th {\n",
       "        text-align: right;\n",
       "    }\n",
       "</style>\n",
       "<table border=\"1\" class=\"dataframe\">\n",
       "  <thead>\n",
       "    <tr style=\"text-align: right;\">\n",
       "      <th></th>\n",
       "      <th>Código_IBGE</th>\n",
       "      <th>Ano</th>\n",
       "      <th>População</th>\n",
       "    </tr>\n",
       "  </thead>\n",
       "  <tbody>\n",
       "    <tr>\n",
       "      <th>0</th>\n",
       "      <td>1200013</td>\n",
       "      <td>2008</td>\n",
       "      <td>11987</td>\n",
       "    </tr>\n",
       "    <tr>\n",
       "      <th>1</th>\n",
       "      <td>1200013</td>\n",
       "      <td>2009</td>\n",
       "      <td>12241.0</td>\n",
       "    </tr>\n",
       "    <tr>\n",
       "      <th>2</th>\n",
       "      <td>1200013</td>\n",
       "      <td>2010</td>\n",
       "      <td>12510.0</td>\n",
       "    </tr>\n",
       "    <tr>\n",
       "      <th>3</th>\n",
       "      <td>1200013</td>\n",
       "      <td>2011</td>\n",
       "      <td>12779.0</td>\n",
       "    </tr>\n",
       "    <tr>\n",
       "      <th>4</th>\n",
       "      <td>1200013</td>\n",
       "      <td>2012</td>\n",
       "      <td>13011</td>\n",
       "    </tr>\n",
       "    <tr>\n",
       "      <th>...</th>\n",
       "      <td>...</td>\n",
       "      <td>...</td>\n",
       "      <td>...</td>\n",
       "    </tr>\n",
       "    <tr>\n",
       "      <th>83545</th>\n",
       "      <td>1722107</td>\n",
       "      <td>2018</td>\n",
       "      <td>11561</td>\n",
       "    </tr>\n",
       "    <tr>\n",
       "      <th>83546</th>\n",
       "      <td>1722107</td>\n",
       "      <td>2019</td>\n",
       "      <td>11540</td>\n",
       "    </tr>\n",
       "    <tr>\n",
       "      <th>83547</th>\n",
       "      <td>1722107</td>\n",
       "      <td>2020</td>\n",
       "      <td>11520</td>\n",
       "    </tr>\n",
       "    <tr>\n",
       "      <th>83548</th>\n",
       "      <td>1722107</td>\n",
       "      <td>2021</td>\n",
       "      <td>11500</td>\n",
       "    </tr>\n",
       "    <tr>\n",
       "      <th>83549</th>\n",
       "      <td>1722107</td>\n",
       "      <td>2022</td>\n",
       "      <td>10517</td>\n",
       "    </tr>\n",
       "  </tbody>\n",
       "</table>\n",
       "<p>83550 rows × 3 columns</p>\n",
       "</div>"
      ],
      "text/plain": [
       "       Código_IBGE   Ano População\n",
       "0          1200013  2008     11987\n",
       "1          1200013  2009   12241.0\n",
       "2          1200013  2010   12510.0\n",
       "3          1200013  2011   12779.0\n",
       "4          1200013  2012     13011\n",
       "...            ...   ...       ...\n",
       "83545      1722107  2018     11561\n",
       "83546      1722107  2019     11540\n",
       "83547      1722107  2020     11520\n",
       "83548      1722107  2021     11500\n",
       "83549      1722107  2022     10517\n",
       "\n",
       "[83550 rows x 3 columns]"
      ]
     },
     "execution_count": 17,
     "metadata": {},
     "output_type": "execute_result"
    }
   ],
   "source": [
    "population_df = pd.read_csv(\"../transformed_data/population_per_municipality.csv\")\n",
    "population_df"
   ]
  },
  {
   "cell_type": "code",
   "execution_count": 18,
   "id": "1c4d7258",
   "metadata": {},
   "outputs": [],
   "source": [
    "population_list = list(population_df['Código_IBGE'].unique())"
   ]
  },
  {
   "cell_type": "code",
   "execution_count": 20,
   "id": "545d2034",
   "metadata": {},
   "outputs": [
    {
     "data": {
      "text/plain": [
       "True"
      ]
     },
     "execution_count": 20,
     "metadata": {},
     "output_type": "execute_result"
    }
   ],
   "source": [
    "check_equal_lists(performance_ibge_code, population_list)"
   ]
  },
  {
   "cell_type": "code",
   "execution_count": 21,
   "id": "55b10ac1",
   "metadata": {},
   "outputs": [
    {
     "data": {
      "text/plain": [
       "(5570, 5570)"
      ]
     },
     "execution_count": 21,
     "metadata": {},
     "output_type": "execute_result"
    }
   ],
   "source": [
    "len(performance_ibge_code), len(population_list)"
   ]
  },
  {
   "cell_type": "code",
   "execution_count": null,
   "id": "81b24bb3",
   "metadata": {},
   "outputs": [],
   "source": []
  },
  {
   "cell_type": "code",
   "execution_count": 26,
   "id": "9cd1a983",
   "metadata": {},
   "outputs": [],
   "source": [
    "pop_fund_merged_df = pd.merge(population_df, funding_df, on=['Ano', 'Código_IBGE'], how='outer')"
   ]
  },
  {
   "cell_type": "code",
   "execution_count": 28,
   "id": "95822bce",
   "metadata": {},
   "outputs": [
    {
     "data": {
      "text/html": [
       "<div>\n",
       "<style scoped>\n",
       "    .dataframe tbody tr th:only-of-type {\n",
       "        vertical-align: middle;\n",
       "    }\n",
       "\n",
       "    .dataframe tbody tr th {\n",
       "        vertical-align: top;\n",
       "    }\n",
       "\n",
       "    .dataframe thead th {\n",
       "        text-align: right;\n",
       "    }\n",
       "</style>\n",
       "<table border=\"1\" class=\"dataframe\">\n",
       "  <thead>\n",
       "    <tr style=\"text-align: right;\">\n",
       "      <th></th>\n",
       "      <th>Código_IBGE</th>\n",
       "      <th>Ano</th>\n",
       "      <th>População</th>\n",
       "      <th>Valor_Consolidado</th>\n",
       "    </tr>\n",
       "  </thead>\n",
       "  <tbody>\n",
       "    <tr>\n",
       "      <th>0</th>\n",
       "      <td>1200013</td>\n",
       "      <td>2008</td>\n",
       "      <td>11987</td>\n",
       "      <td>5089382.67</td>\n",
       "    </tr>\n",
       "    <tr>\n",
       "      <th>1</th>\n",
       "      <td>1200013</td>\n",
       "      <td>2009</td>\n",
       "      <td>12241.0</td>\n",
       "      <td>5259220.39</td>\n",
       "    </tr>\n",
       "    <tr>\n",
       "      <th>2</th>\n",
       "      <td>1200013</td>\n",
       "      <td>2010</td>\n",
       "      <td>12510.0</td>\n",
       "      <td>5682387.10</td>\n",
       "    </tr>\n",
       "    <tr>\n",
       "      <th>3</th>\n",
       "      <td>1200013</td>\n",
       "      <td>2011</td>\n",
       "      <td>12779.0</td>\n",
       "      <td>6687641.83</td>\n",
       "    </tr>\n",
       "    <tr>\n",
       "      <th>4</th>\n",
       "      <td>1200013</td>\n",
       "      <td>2012</td>\n",
       "      <td>13011</td>\n",
       "      <td>6535497.11</td>\n",
       "    </tr>\n",
       "    <tr>\n",
       "      <th>...</th>\n",
       "      <td>...</td>\n",
       "      <td>...</td>\n",
       "      <td>...</td>\n",
       "      <td>...</td>\n",
       "    </tr>\n",
       "    <tr>\n",
       "      <th>83545</th>\n",
       "      <td>1722107</td>\n",
       "      <td>2018</td>\n",
       "      <td>11561</td>\n",
       "      <td>6322567.52</td>\n",
       "    </tr>\n",
       "    <tr>\n",
       "      <th>83546</th>\n",
       "      <td>1722107</td>\n",
       "      <td>2019</td>\n",
       "      <td>11540</td>\n",
       "      <td>7014407.97</td>\n",
       "    </tr>\n",
       "    <tr>\n",
       "      <th>83547</th>\n",
       "      <td>1722107</td>\n",
       "      <td>2020</td>\n",
       "      <td>11520</td>\n",
       "      <td>7515015.35</td>\n",
       "    </tr>\n",
       "    <tr>\n",
       "      <th>83548</th>\n",
       "      <td>1722107</td>\n",
       "      <td>2021</td>\n",
       "      <td>11500</td>\n",
       "      <td>9694092.49</td>\n",
       "    </tr>\n",
       "    <tr>\n",
       "      <th>83549</th>\n",
       "      <td>1722107</td>\n",
       "      <td>2022</td>\n",
       "      <td>10517</td>\n",
       "      <td>13274633.06</td>\n",
       "    </tr>\n",
       "  </tbody>\n",
       "</table>\n",
       "<p>83550 rows × 4 columns</p>\n",
       "</div>"
      ],
      "text/plain": [
       "       Código_IBGE   Ano População  Valor_Consolidado\n",
       "0          1200013  2008     11987         5089382.67\n",
       "1          1200013  2009   12241.0         5259220.39\n",
       "2          1200013  2010   12510.0         5682387.10\n",
       "3          1200013  2011   12779.0         6687641.83\n",
       "4          1200013  2012     13011         6535497.11\n",
       "...            ...   ...       ...                ...\n",
       "83545      1722107  2018     11561         6322567.52\n",
       "83546      1722107  2019     11540         7014407.97\n",
       "83547      1722107  2020     11520         7515015.35\n",
       "83548      1722107  2021     11500         9694092.49\n",
       "83549      1722107  2022     10517        13274633.06\n",
       "\n",
       "[83550 rows x 4 columns]"
      ]
     },
     "execution_count": 28,
     "metadata": {},
     "output_type": "execute_result"
    }
   ],
   "source": [
    "pop_fund_merged_df"
   ]
  },
  {
   "cell_type": "code",
   "execution_count": null,
   "id": "a9c31e01",
   "metadata": {},
   "outputs": [],
   "source": []
  },
  {
   "cell_type": "code",
   "execution_count": null,
   "id": "926dccf3",
   "metadata": {},
   "outputs": [],
   "source": []
  },
  {
   "cell_type": "code",
   "execution_count": null,
   "id": "99338319",
   "metadata": {},
   "outputs": [],
   "source": []
  }
 ],
 "metadata": {
  "kernelspec": {
   "display_name": "Python 3 (ipykernel)",
   "language": "python",
   "name": "python3"
  },
  "language_info": {
   "codemirror_mode": {
    "name": "ipython",
    "version": 3
   },
   "file_extension": ".py",
   "mimetype": "text/x-python",
   "name": "python",
   "nbconvert_exporter": "python",
   "pygments_lexer": "ipython3",
   "version": "3.10.6"
  }
 },
 "nbformat": 4,
 "nbformat_minor": 5
}
