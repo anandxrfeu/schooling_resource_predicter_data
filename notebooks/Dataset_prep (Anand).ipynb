{
 "cells": [
  {
   "cell_type": "markdown",
   "id": "0ea8c1dc",
   "metadata": {},
   "source": [
    "## School performance dataset"
   ]
  },
  {
   "cell_type": "code",
   "execution_count": 21,
   "id": "31bbec02",
   "metadata": {},
   "outputs": [],
   "source": [
    "import pandas as pd"
   ]
  },
  {
   "cell_type": "code",
   "execution_count": 22,
   "id": "b59609c6",
   "metadata": {
    "scrolled": true
   },
   "outputs": [],
   "source": [
    "performance_df = pd.read_csv(\"../transformed_data/school_performance_per_municipality.csv\")"
   ]
  },
  {
   "cell_type": "code",
   "execution_count": 3,
   "id": "5e59221c",
   "metadata": {},
   "outputs": [
    {
     "data": {
      "text/html": [
       "<div>\n",
       "<style scoped>\n",
       "    .dataframe tbody tr th:only-of-type {\n",
       "        vertical-align: middle;\n",
       "    }\n",
       "\n",
       "    .dataframe tbody tr th {\n",
       "        vertical-align: top;\n",
       "    }\n",
       "\n",
       "    .dataframe thead th {\n",
       "        text-align: right;\n",
       "    }\n",
       "</style>\n",
       "<table border=\"1\" class=\"dataframe\">\n",
       "  <thead>\n",
       "    <tr style=\"text-align: right;\">\n",
       "      <th></th>\n",
       "      <th>Ano</th>\n",
       "      <th>Código_IBGE</th>\n",
       "      <th>Localização</th>\n",
       "      <th>Aprovação</th>\n",
       "      <th>Reprovação</th>\n",
       "      <th>Abandono</th>\n",
       "    </tr>\n",
       "  </thead>\n",
       "  <tbody>\n",
       "    <tr>\n",
       "      <th>0</th>\n",
       "      <td>2008</td>\n",
       "      <td>1100015</td>\n",
       "      <td>Rural</td>\n",
       "      <td>--</td>\n",
       "      <td>--</td>\n",
       "      <td>--</td>\n",
       "    </tr>\n",
       "    <tr>\n",
       "      <th>1</th>\n",
       "      <td>2008</td>\n",
       "      <td>1100023</td>\n",
       "      <td>Rural</td>\n",
       "      <td>--</td>\n",
       "      <td>--</td>\n",
       "      <td>--</td>\n",
       "    </tr>\n",
       "    <tr>\n",
       "      <th>2</th>\n",
       "      <td>2008</td>\n",
       "      <td>1100049</td>\n",
       "      <td>Rural</td>\n",
       "      <td>--</td>\n",
       "      <td>--</td>\n",
       "      <td>--</td>\n",
       "    </tr>\n",
       "    <tr>\n",
       "      <th>3</th>\n",
       "      <td>2008</td>\n",
       "      <td>1100056</td>\n",
       "      <td>Rural</td>\n",
       "      <td>--</td>\n",
       "      <td>--</td>\n",
       "      <td>--</td>\n",
       "    </tr>\n",
       "    <tr>\n",
       "      <th>4</th>\n",
       "      <td>2008</td>\n",
       "      <td>1100064</td>\n",
       "      <td>Rural</td>\n",
       "      <td>77.7</td>\n",
       "      <td>22</td>\n",
       "      <td>0.3</td>\n",
       "    </tr>\n",
       "    <tr>\n",
       "      <th>...</th>\n",
       "      <td>...</td>\n",
       "      <td>...</td>\n",
       "      <td>...</td>\n",
       "      <td>...</td>\n",
       "      <td>...</td>\n",
       "      <td>...</td>\n",
       "    </tr>\n",
       "    <tr>\n",
       "      <th>150498</th>\n",
       "      <td>2022</td>\n",
       "      <td>5222005</td>\n",
       "      <td>Urbana</td>\n",
       "      <td>99.2</td>\n",
       "      <td>0.8</td>\n",
       "      <td>0.0</td>\n",
       "    </tr>\n",
       "    <tr>\n",
       "      <th>150499</th>\n",
       "      <td>2022</td>\n",
       "      <td>5222054</td>\n",
       "      <td>Urbana</td>\n",
       "      <td>99.3</td>\n",
       "      <td>0.7</td>\n",
       "      <td>0.0</td>\n",
       "    </tr>\n",
       "    <tr>\n",
       "      <th>150500</th>\n",
       "      <td>2022</td>\n",
       "      <td>5222203</td>\n",
       "      <td>Urbana</td>\n",
       "      <td>100.0</td>\n",
       "      <td>0.0</td>\n",
       "      <td>0.0</td>\n",
       "    </tr>\n",
       "    <tr>\n",
       "      <th>150501</th>\n",
       "      <td>2022</td>\n",
       "      <td>5222302</td>\n",
       "      <td>Urbana</td>\n",
       "      <td>90.5</td>\n",
       "      <td>5.2</td>\n",
       "      <td>4.3</td>\n",
       "    </tr>\n",
       "    <tr>\n",
       "      <th>150502</th>\n",
       "      <td>2022</td>\n",
       "      <td>5300108</td>\n",
       "      <td>Urbana</td>\n",
       "      <td>85.5</td>\n",
       "      <td>9.8</td>\n",
       "      <td>4.7</td>\n",
       "    </tr>\n",
       "  </tbody>\n",
       "</table>\n",
       "<p>150503 rows × 6 columns</p>\n",
       "</div>"
      ],
      "text/plain": [
       "         Ano  Código_IBGE Localização Aprovação Reprovação Abandono\n",
       "0       2008      1100015       Rural        --         --       --\n",
       "1       2008      1100023       Rural        --         --       --\n",
       "2       2008      1100049       Rural        --         --       --\n",
       "3       2008      1100056       Rural        --         --       --\n",
       "4       2008      1100064       Rural      77.7         22      0.3\n",
       "...      ...          ...         ...       ...        ...      ...\n",
       "150498  2022      5222005      Urbana      99.2        0.8      0.0\n",
       "150499  2022      5222054      Urbana      99.3        0.7      0.0\n",
       "150500  2022      5222203      Urbana     100.0        0.0      0.0\n",
       "150501  2022      5222302      Urbana      90.5        5.2      4.3\n",
       "150502  2022      5300108      Urbana      85.5        9.8      4.7\n",
       "\n",
       "[150503 rows x 6 columns]"
      ]
     },
     "execution_count": 3,
     "metadata": {},
     "output_type": "execute_result"
    }
   ],
   "source": [
    "performance_df"
   ]
  },
  {
   "cell_type": "code",
   "execution_count": 16,
   "id": "c5e77cfa",
   "metadata": {},
   "outputs": [
    {
     "name": "stdout",
     "output_type": "stream",
     "text": [
      "<class 'pandas.core.frame.DataFrame'>\n",
      "RangeIndex: 150503 entries, 0 to 150502\n",
      "Data columns (total 6 columns):\n",
      " #   Column       Non-Null Count   Dtype \n",
      "---  ------       --------------   ----- \n",
      " 0   Ano          150503 non-null  int64 \n",
      " 1   Código_IBGE  150503 non-null  int64 \n",
      " 2   Localização  150503 non-null  object\n",
      " 3   Aprovação    150503 non-null  object\n",
      " 4   Reprovação   150503 non-null  object\n",
      " 5   Abandono     150503 non-null  object\n",
      "dtypes: int64(2), object(4)\n",
      "memory usage: 6.9+ MB\n"
     ]
    }
   ],
   "source": [
    "performance_df.info()"
   ]
  },
  {
   "cell_type": "markdown",
   "id": "2a88df76",
   "metadata": {},
   "source": [
    "## School infrastructure dataset"
   ]
  },
  {
   "cell_type": "code",
   "execution_count": 23,
   "id": "451de167",
   "metadata": {
    "scrolled": true
   },
   "outputs": [],
   "source": [
    "infrastructure_df = pd.read_csv(\"../transformed_data/school_infrastructure_per_municipality.csv\")"
   ]
  },
  {
   "cell_type": "code",
   "execution_count": 24,
   "id": "2b07148a",
   "metadata": {},
   "outputs": [
    {
     "data": {
      "text/html": [
       "<div>\n",
       "<style scoped>\n",
       "    .dataframe tbody tr th:only-of-type {\n",
       "        vertical-align: middle;\n",
       "    }\n",
       "\n",
       "    .dataframe tbody tr th {\n",
       "        vertical-align: top;\n",
       "    }\n",
       "\n",
       "    .dataframe thead th {\n",
       "        text-align: right;\n",
       "    }\n",
       "</style>\n",
       "<table border=\"1\" class=\"dataframe\">\n",
       "  <thead>\n",
       "    <tr style=\"text-align: right;\">\n",
       "      <th></th>\n",
       "      <th>Código_IBGE</th>\n",
       "      <th>Localização</th>\n",
       "      <th>Matrículas</th>\n",
       "      <th>Ano</th>\n",
       "      <th>Docentes</th>\n",
       "      <th>Estabelecimentos</th>\n",
       "      <th>Turmas</th>\n",
       "    </tr>\n",
       "  </thead>\n",
       "  <tbody>\n",
       "    <tr>\n",
       "      <th>0</th>\n",
       "      <td>5200050</td>\n",
       "      <td>Rural</td>\n",
       "      <td>0</td>\n",
       "      <td>2009</td>\n",
       "      <td>0</td>\n",
       "      <td>0</td>\n",
       "      <td>0</td>\n",
       "    </tr>\n",
       "    <tr>\n",
       "      <th>1</th>\n",
       "      <td>5200050</td>\n",
       "      <td>Urbana</td>\n",
       "      <td>302</td>\n",
       "      <td>2009</td>\n",
       "      <td>19</td>\n",
       "      <td>1</td>\n",
       "      <td>12</td>\n",
       "    </tr>\n",
       "    <tr>\n",
       "      <th>2</th>\n",
       "      <td>3100104</td>\n",
       "      <td>Rural</td>\n",
       "      <td>0</td>\n",
       "      <td>2009</td>\n",
       "      <td>0</td>\n",
       "      <td>0</td>\n",
       "      <td>0</td>\n",
       "    </tr>\n",
       "    <tr>\n",
       "      <th>3</th>\n",
       "      <td>3100104</td>\n",
       "      <td>Urbana</td>\n",
       "      <td>211</td>\n",
       "      <td>2009</td>\n",
       "      <td>16</td>\n",
       "      <td>1</td>\n",
       "      <td>7</td>\n",
       "    </tr>\n",
       "    <tr>\n",
       "      <th>4</th>\n",
       "      <td>5200100</td>\n",
       "      <td>Rural</td>\n",
       "      <td>0</td>\n",
       "      <td>2009</td>\n",
       "      <td>0</td>\n",
       "      <td>0</td>\n",
       "      <td>0</td>\n",
       "    </tr>\n",
       "    <tr>\n",
       "      <th>...</th>\n",
       "      <td>...</td>\n",
       "      <td>...</td>\n",
       "      <td>...</td>\n",
       "      <td>...</td>\n",
       "      <td>...</td>\n",
       "      <td>...</td>\n",
       "      <td>...</td>\n",
       "    </tr>\n",
       "    <tr>\n",
       "      <th>178175</th>\n",
       "      <td>2900504</td>\n",
       "      <td>Urbana</td>\n",
       "      <td>475</td>\n",
       "      <td>2010</td>\n",
       "      <td>23</td>\n",
       "      <td>1</td>\n",
       "      <td>18</td>\n",
       "    </tr>\n",
       "    <tr>\n",
       "      <th>178176</th>\n",
       "      <td>1505106</td>\n",
       "      <td>Rural</td>\n",
       "      <td>0</td>\n",
       "      <td>2010</td>\n",
       "      <td>0</td>\n",
       "      <td>0</td>\n",
       "      <td>0</td>\n",
       "    </tr>\n",
       "    <tr>\n",
       "      <th>178177</th>\n",
       "      <td>1505106</td>\n",
       "      <td>Urbana</td>\n",
       "      <td>2405</td>\n",
       "      <td>2010</td>\n",
       "      <td>64</td>\n",
       "      <td>1</td>\n",
       "      <td>85</td>\n",
       "    </tr>\n",
       "    <tr>\n",
       "      <th>178178</th>\n",
       "      <td>3533809</td>\n",
       "      <td>Rural</td>\n",
       "      <td>0</td>\n",
       "      <td>2010</td>\n",
       "      <td>0</td>\n",
       "      <td>0</td>\n",
       "      <td>0</td>\n",
       "    </tr>\n",
       "    <tr>\n",
       "      <th>178179</th>\n",
       "      <td>3533809</td>\n",
       "      <td>Urbana</td>\n",
       "      <td>117</td>\n",
       "      <td>2010</td>\n",
       "      <td>15</td>\n",
       "      <td>1</td>\n",
       "      <td>5</td>\n",
       "    </tr>\n",
       "  </tbody>\n",
       "</table>\n",
       "<p>178180 rows × 7 columns</p>\n",
       "</div>"
      ],
      "text/plain": [
       "        Código_IBGE Localização Matrículas   Ano Docentes  Estabelecimentos  \\\n",
       "0           5200050       Rural          0  2009        0                 0   \n",
       "1           5200050      Urbana        302  2009       19                 1   \n",
       "2           3100104       Rural          0  2009        0                 0   \n",
       "3           3100104      Urbana        211  2009       16                 1   \n",
       "4           5200100       Rural          0  2009        0                 0   \n",
       "...             ...         ...        ...   ...      ...               ...   \n",
       "178175      2900504      Urbana        475  2010       23                 1   \n",
       "178176      1505106       Rural          0  2010        0                 0   \n",
       "178177      1505106      Urbana       2405  2010       64                 1   \n",
       "178178      3533809       Rural          0  2010        0                 0   \n",
       "178179      3533809      Urbana        117  2010       15                 1   \n",
       "\n",
       "       Turmas  \n",
       "0           0  \n",
       "1          12  \n",
       "2           0  \n",
       "3           7  \n",
       "4           0  \n",
       "...       ...  \n",
       "178175     18  \n",
       "178176      0  \n",
       "178177     85  \n",
       "178178      0  \n",
       "178179      5  \n",
       "\n",
       "[178180 rows x 7 columns]"
      ]
     },
     "execution_count": 24,
     "metadata": {},
     "output_type": "execute_result"
    }
   ],
   "source": [
    "infrastructure_df"
   ]
  },
  {
   "cell_type": "code",
   "execution_count": 15,
   "id": "529234f4",
   "metadata": {},
   "outputs": [
    {
     "name": "stdout",
     "output_type": "stream",
     "text": [
      "<class 'pandas.core.frame.DataFrame'>\n",
      "RangeIndex: 178180 entries, 0 to 178179\n",
      "Data columns (total 7 columns):\n",
      " #   Column            Non-Null Count   Dtype \n",
      "---  ------            --------------   ----- \n",
      " 0   Código_IBGE       178180 non-null  int64 \n",
      " 1   Rede              178180 non-null  object\n",
      " 2   Matrículas        178180 non-null  object\n",
      " 3   Ano               178180 non-null  int64 \n",
      " 4   Docentes          178178 non-null  object\n",
      " 5   Estabelecimentos  178180 non-null  int64 \n",
      " 6   Turmas            178180 non-null  object\n",
      "dtypes: int64(3), object(4)\n",
      "memory usage: 9.5+ MB\n"
     ]
    }
   ],
   "source": [
    "infrastructure_df.info()"
   ]
  },
  {
   "cell_type": "code",
   "execution_count": null,
   "id": "514cc48b",
   "metadata": {},
   "outputs": [],
   "source": [
    "performance_name_list = list(performance_df['Nome do Município'].unique())\n",
    "infra_name_list = list(infrastructure_df['Município'].unique())\n",
    "check_equal_lists(performance_name_list, infra_name_list)"
   ]
  },
  {
   "cell_type": "code",
   "execution_count": null,
   "id": "5954cbe2",
   "metadata": {},
   "outputs": [],
   "source": []
  },
  {
   "cell_type": "markdown",
   "id": "6bbc6265",
   "metadata": {},
   "source": [
    "## Combine school performance and infra datasets"
   ]
  },
  {
   "cell_type": "markdown",
   "id": "62d3517a",
   "metadata": {},
   "source": [
    "### Check is primary keys are same of subsets of one another"
   ]
  },
  {
   "cell_type": "code",
   "execution_count": 6,
   "id": "f36cf6ab",
   "metadata": {},
   "outputs": [],
   "source": [
    "def check_equal_lists(list1, list2):\n",
    "    return sorted(list1) == sorted(list2)"
   ]
  },
  {
   "cell_type": "markdown",
   "id": "8a5d2392",
   "metadata": {},
   "source": [
    "#### IBGE"
   ]
  },
  {
   "cell_type": "code",
   "execution_count": 7,
   "id": "7f7ffc9f",
   "metadata": {},
   "outputs": [],
   "source": [
    "performance_ibge_code = list(performance_df['Código_IBGE'].unique())"
   ]
  },
  {
   "cell_type": "code",
   "execution_count": 8,
   "id": "cbeabc64",
   "metadata": {},
   "outputs": [],
   "source": [
    "infra_ibge_code = list(infrastructure_df['Código_IBGE'].unique())"
   ]
  },
  {
   "cell_type": "code",
   "execution_count": 9,
   "id": "3a0a5954",
   "metadata": {},
   "outputs": [
    {
     "data": {
      "text/plain": [
       "True"
      ]
     },
     "execution_count": 9,
     "metadata": {},
     "output_type": "execute_result"
    }
   ],
   "source": [
    "check_equal_lists(performance_ibge_code, infra_ibge_code)"
   ]
  },
  {
   "cell_type": "code",
   "execution_count": 10,
   "id": "e6ff6245",
   "metadata": {},
   "outputs": [
    {
     "data": {
      "text/plain": [
       "(5570, 5570)"
      ]
     },
     "execution_count": 10,
     "metadata": {},
     "output_type": "execute_result"
    }
   ],
   "source": [
    "len(performance_ibge_code), len(infra_ibge_code)"
   ]
  },
  {
   "cell_type": "markdown",
   "id": "1bc32478",
   "metadata": {},
   "source": [
    "#### Ano"
   ]
  },
  {
   "cell_type": "code",
   "execution_count": 11,
   "id": "c644f1f6",
   "metadata": {},
   "outputs": [
    {
     "data": {
      "text/plain": [
       "[2008,\n",
       " 2009,\n",
       " 2010,\n",
       " 2011,\n",
       " 2012,\n",
       " 2013,\n",
       " 2014,\n",
       " 2015,\n",
       " 2016,\n",
       " 2017,\n",
       " 2018,\n",
       " 2019,\n",
       " 2020,\n",
       " 2021,\n",
       " 2022]"
      ]
     },
     "execution_count": 11,
     "metadata": {},
     "output_type": "execute_result"
    }
   ],
   "source": [
    "performance_years = list(performance_df['Ano'].unique())\n",
    "performance_years.sort()\n",
    "performance_years"
   ]
  },
  {
   "cell_type": "code",
   "execution_count": 12,
   "id": "27e53755",
   "metadata": {},
   "outputs": [
    {
     "data": {
      "text/plain": [
       "[2007,\n",
       " 2008,\n",
       " 2009,\n",
       " 2010,\n",
       " 2011,\n",
       " 2012,\n",
       " 2013,\n",
       " 2014,\n",
       " 2015,\n",
       " 2016,\n",
       " 2017,\n",
       " 2018,\n",
       " 2019,\n",
       " 2020,\n",
       " 2021,\n",
       " 2022]"
      ]
     },
     "execution_count": 12,
     "metadata": {},
     "output_type": "execute_result"
    }
   ],
   "source": [
    "infra_years = list(infrastructure_df['Ano'].unique())\n",
    "infra_years.sort()\n",
    "infra_years"
   ]
  },
  {
   "cell_type": "code",
   "execution_count": 13,
   "id": "63d7f599",
   "metadata": {},
   "outputs": [
    {
     "data": {
      "text/plain": [
       "False"
      ]
     },
     "execution_count": 13,
     "metadata": {},
     "output_type": "execute_result"
    }
   ],
   "source": [
    "check_equal_lists(performance_years, infra_years)"
   ]
  },
  {
   "cell_type": "code",
   "execution_count": 14,
   "id": "5b078448",
   "metadata": {},
   "outputs": [
    {
     "data": {
      "text/plain": [
       "(15, 16)"
      ]
     },
     "execution_count": 14,
     "metadata": {},
     "output_type": "execute_result"
    }
   ],
   "source": [
    "len(performance_years), len(infra_years)"
   ]
  },
  {
   "cell_type": "markdown",
   "id": "a865e03b",
   "metadata": {},
   "source": [
    "#### Remove infra data for year 2007"
   ]
  },
  {
   "cell_type": "code",
   "execution_count": 25,
   "id": "f4f4443e",
   "metadata": {},
   "outputs": [],
   "source": [
    "infrastructure_df = infrastructure_df[infrastructure_df.Ano != 2007]"
   ]
  },
  {
   "cell_type": "code",
   "execution_count": 26,
   "id": "ce144f77",
   "metadata": {},
   "outputs": [],
   "source": [
    "infra_years = list(infrastructure_df['Ano'].unique())"
   ]
  },
  {
   "cell_type": "code",
   "execution_count": 27,
   "id": "9abd0244",
   "metadata": {},
   "outputs": [
    {
     "data": {
      "text/plain": [
       "(15, 15)"
      ]
     },
     "execution_count": 27,
     "metadata": {},
     "output_type": "execute_result"
    }
   ],
   "source": [
    "len(performance_years), len(infra_years)"
   ]
  },
  {
   "cell_type": "code",
   "execution_count": 29,
   "id": "c3237148",
   "metadata": {},
   "outputs": [
    {
     "data": {
      "text/plain": [
       "Index(['Ano', 'Código_IBGE', 'Localização', 'Aprovação', 'Reprovação',\n",
       "       'Abandono'],\n",
       "      dtype='object')"
      ]
     },
     "execution_count": 29,
     "metadata": {},
     "output_type": "execute_result"
    }
   ],
   "source": [
    "performance_df.columns"
   ]
  },
  {
   "cell_type": "code",
   "execution_count": 30,
   "id": "9cdbcb20",
   "metadata": {},
   "outputs": [],
   "source": [
    "school_merged_df = pd.merge(performance_df, infrastructure_df, on=['Ano', 'Código_IBGE', 'Localização'], how='outer')"
   ]
  },
  {
   "cell_type": "code",
   "execution_count": 34,
   "id": "61143dd0",
   "metadata": {},
   "outputs": [
    {
     "data": {
      "text/plain": [
       "5570"
      ]
     },
     "execution_count": 34,
     "metadata": {},
     "output_type": "execute_result"
    }
   ],
   "source": [
    "len(school_merged_df.Código_IBGE.unique())"
   ]
  },
  {
   "cell_type": "code",
   "execution_count": 35,
   "id": "d8539b54",
   "metadata": {},
   "outputs": [],
   "source": [
    "# Write the combined DataFrame to a new CSV file\n",
    "file_path = \"../transformed_data/school_infrastructure_and_performance.csv\"\n",
    "school_merged_df.to_csv(file_path, index=False)"
   ]
  },
  {
   "cell_type": "code",
   "execution_count": null,
   "id": "a14c2199",
   "metadata": {},
   "outputs": [],
   "source": []
  },
  {
   "cell_type": "markdown",
   "id": "82fb9433",
   "metadata": {},
   "source": [
    "## Funding Dataset"
   ]
  },
  {
   "cell_type": "code",
   "execution_count": null,
   "id": "887f1e0c",
   "metadata": {},
   "outputs": [],
   "source": [
    "funding_df = pd.read_csv(\"../transformed_data/funding_per_municipality.csv\")"
   ]
  },
  {
   "cell_type": "code",
   "execution_count": null,
   "id": "2b1e7290",
   "metadata": {},
   "outputs": [],
   "source": [
    "funding_df"
   ]
  },
  {
   "cell_type": "code",
   "execution_count": null,
   "id": "92622a1a",
   "metadata": {},
   "outputs": [],
   "source": [
    "funding_list = list(funding_df['Código IBGE'].unique())"
   ]
  },
  {
   "cell_type": "code",
   "execution_count": null,
   "id": "d4b5edd6",
   "metadata": {},
   "outputs": [],
   "source": [
    "check_equal_lists(performance_list, funding_list)"
   ]
  },
  {
   "cell_type": "code",
   "execution_count": null,
   "id": "a1e9310e",
   "metadata": {},
   "outputs": [],
   "source": [
    "len(performance_list), len(funding_list)"
   ]
  },
  {
   "cell_type": "code",
   "execution_count": null,
   "id": "81e0059b",
   "metadata": {},
   "outputs": [],
   "source": [
    "def is_subset(list1, list2):\n",
    "    return set(list1).issubset(set(list2))\n"
   ]
  },
  {
   "cell_type": "code",
   "execution_count": null,
   "id": "c91699f6",
   "metadata": {},
   "outputs": [],
   "source": [
    "is_subset(funding_list, performance_list)"
   ]
  },
  {
   "cell_type": "code",
   "execution_count": null,
   "id": "0ebb0059",
   "metadata": {},
   "outputs": [],
   "source": []
  },
  {
   "cell_type": "markdown",
   "id": "65de3816",
   "metadata": {},
   "source": [
    "## Population dataset"
   ]
  },
  {
   "cell_type": "code",
   "execution_count": null,
   "id": "9e47fe73",
   "metadata": {},
   "outputs": [],
   "source": []
  },
  {
   "cell_type": "code",
   "execution_count": null,
   "id": "fdfd8af8",
   "metadata": {},
   "outputs": [],
   "source": [
    "population_df = pd.read_csv(\"../transformed_data/population_per_municipality.csv\")\n",
    "population_df"
   ]
  },
  {
   "cell_type": "code",
   "execution_count": null,
   "id": "1c4d7258",
   "metadata": {},
   "outputs": [],
   "source": [
    "population_list = list(population_df['Código do Município'].unique())"
   ]
  },
  {
   "cell_type": "code",
   "execution_count": null,
   "id": "545d2034",
   "metadata": {},
   "outputs": [],
   "source": [
    "check_equal_lists(performance_list, population_list)"
   ]
  },
  {
   "cell_type": "code",
   "execution_count": null,
   "id": "55b10ac1",
   "metadata": {},
   "outputs": [],
   "source": []
  },
  {
   "cell_type": "code",
   "execution_count": null,
   "id": "81b24bb3",
   "metadata": {},
   "outputs": [],
   "source": []
  },
  {
   "cell_type": "code",
   "execution_count": null,
   "id": "99338319",
   "metadata": {},
   "outputs": [],
   "source": []
  }
 ],
 "metadata": {
  "kernelspec": {
   "display_name": "Python 3 (ipykernel)",
   "language": "python",
   "name": "python3"
  },
  "language_info": {
   "codemirror_mode": {
    "name": "ipython",
    "version": 3
   },
   "file_extension": ".py",
   "mimetype": "text/x-python",
   "name": "python",
   "nbconvert_exporter": "python",
   "pygments_lexer": "ipython3",
   "version": "3.10.6"
  }
 },
 "nbformat": 4,
 "nbformat_minor": 5
}
