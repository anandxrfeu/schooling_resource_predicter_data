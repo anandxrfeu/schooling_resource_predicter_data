{
 "cells": [
  {
   "cell_type": "markdown",
   "id": "a1d48981",
   "metadata": {},
   "source": [
    "# Data preparation for Machine Learning"
   ]
  },
  {
   "cell_type": "markdown",
   "id": "e2918543",
   "metadata": {},
   "source": [
    "THis notebook aims to combine all datasets into one, which will be input for ML/DL. "
   ]
  },
  {
   "cell_type": "code",
   "execution_count": 1,
   "id": "1d6b132b",
   "metadata": {},
   "outputs": [],
   "source": [
    "import pandas as pd"
   ]
  },
  {
   "cell_type": "markdown",
   "id": "ee76ffd9",
   "metadata": {},
   "source": [
    "## Education dataset"
   ]
  },
  {
   "cell_type": "code",
   "execution_count": 2,
   "id": "075065e0",
   "metadata": {},
   "outputs": [
    {
     "data": {
      "text/html": [
       "<div>\n",
       "<style scoped>\n",
       "    .dataframe tbody tr th:only-of-type {\n",
       "        vertical-align: middle;\n",
       "    }\n",
       "\n",
       "    .dataframe tbody tr th {\n",
       "        vertical-align: top;\n",
       "    }\n",
       "\n",
       "    .dataframe thead th {\n",
       "        text-align: right;\n",
       "    }\n",
       "</style>\n",
       "<table border=\"1\" class=\"dataframe\">\n",
       "  <thead>\n",
       "    <tr style=\"text-align: right;\">\n",
       "      <th></th>\n",
       "      <th>Ano</th>\n",
       "      <th>Código_IBGE</th>\n",
       "      <th>Localização</th>\n",
       "      <th>Aprovação</th>\n",
       "      <th>Reprovação</th>\n",
       "      <th>Abandono</th>\n",
       "      <th>Matrículas</th>\n",
       "      <th>Docentes</th>\n",
       "      <th>Estabelecimentos</th>\n",
       "      <th>Turmas</th>\n",
       "    </tr>\n",
       "  </thead>\n",
       "  <tbody>\n",
       "    <tr>\n",
       "      <th>0</th>\n",
       "      <td>2016</td>\n",
       "      <td>3550308</td>\n",
       "      <td>Urbana</td>\n",
       "      <td>79.0</td>\n",
       "      <td>15.1</td>\n",
       "      <td>5.9</td>\n",
       "      <td>428268</td>\n",
       "      <td>20582.0</td>\n",
       "      <td>690</td>\n",
       "      <td>12010</td>\n",
       "    </tr>\n",
       "    <tr>\n",
       "      <th>1</th>\n",
       "      <td>2015</td>\n",
       "      <td>3550308</td>\n",
       "      <td>Urbana</td>\n",
       "      <td>79.8</td>\n",
       "      <td>15.7</td>\n",
       "      <td>4.5</td>\n",
       "      <td>413303</td>\n",
       "      <td>21.0</td>\n",
       "      <td>694</td>\n",
       "      <td>11864</td>\n",
       "    </tr>\n",
       "    <tr>\n",
       "      <th>2</th>\n",
       "      <td>2014</td>\n",
       "      <td>3550308</td>\n",
       "      <td>Urbana</td>\n",
       "      <td>76.7</td>\n",
       "      <td>17.1</td>\n",
       "      <td>6.2</td>\n",
       "      <td>430352</td>\n",
       "      <td>21297.0</td>\n",
       "      <td>692</td>\n",
       "      <td>11702</td>\n",
       "    </tr>\n",
       "    <tr>\n",
       "      <th>3</th>\n",
       "      <td>2013</td>\n",
       "      <td>3550308</td>\n",
       "      <td>Urbana</td>\n",
       "      <td>74.6</td>\n",
       "      <td>18.7</td>\n",
       "      <td>6.7</td>\n",
       "      <td>416219</td>\n",
       "      <td>20153.0</td>\n",
       "      <td>681</td>\n",
       "      <td>11173</td>\n",
       "    </tr>\n",
       "    <tr>\n",
       "      <th>4</th>\n",
       "      <td>2012</td>\n",
       "      <td>3550308</td>\n",
       "      <td>Urbana</td>\n",
       "      <td>74.0</td>\n",
       "      <td>19.5</td>\n",
       "      <td>6.5</td>\n",
       "      <td>414338</td>\n",
       "      <td>19882.0</td>\n",
       "      <td>689</td>\n",
       "      <td>11130</td>\n",
       "    </tr>\n",
       "  </tbody>\n",
       "</table>\n",
       "</div>"
      ],
      "text/plain": [
       "    Ano  Código_IBGE Localização  Aprovação  Reprovação  Abandono  Matrículas  \\\n",
       "0  2016      3550308      Urbana       79.0        15.1       5.9      428268   \n",
       "1  2015      3550308      Urbana       79.8        15.7       4.5      413303   \n",
       "2  2014      3550308      Urbana       76.7        17.1       6.2      430352   \n",
       "3  2013      3550308      Urbana       74.6        18.7       6.7      416219   \n",
       "4  2012      3550308      Urbana       74.0        19.5       6.5      414338   \n",
       "\n",
       "   Docentes  Estabelecimentos  Turmas  \n",
       "0   20582.0               690   12010  \n",
       "1      21.0               694   11864  \n",
       "2   21297.0               692   11702  \n",
       "3   20153.0               681   11173  \n",
       "4   19882.0               689   11130  "
      ]
     },
     "execution_count": 2,
     "metadata": {},
     "output_type": "execute_result"
    }
   ],
   "source": [
    "education = pd.read_csv(\"../transformed_data/education/school_data_ML.csv\")\n",
    "education.head()"
   ]
  },
  {
   "cell_type": "code",
   "execution_count": 3,
   "id": "8c53f6f3",
   "metadata": {},
   "outputs": [
    {
     "data": {
      "text/plain": [
       "(102889, 10)"
      ]
     },
     "execution_count": 3,
     "metadata": {},
     "output_type": "execute_result"
    }
   ],
   "source": [
    "education.shape"
   ]
  },
  {
   "cell_type": "markdown",
   "id": "7520b809",
   "metadata": {},
   "source": [
    "## Socio-economic dataset"
   ]
  },
  {
   "cell_type": "code",
   "execution_count": null,
   "id": "8c834843",
   "metadata": {},
   "outputs": [],
   "source": []
  },
  {
   "cell_type": "code",
   "execution_count": null,
   "id": "3fbfe3d4",
   "metadata": {},
   "outputs": [],
   "source": []
  },
  {
   "cell_type": "code",
   "execution_count": null,
   "id": "1c3a51b7",
   "metadata": {},
   "outputs": [],
   "source": []
  },
  {
   "cell_type": "code",
   "execution_count": null,
   "id": "0d843c1a",
   "metadata": {},
   "outputs": [],
   "source": []
  },
  {
   "cell_type": "code",
   "execution_count": null,
   "id": "adde4a7d",
   "metadata": {},
   "outputs": [],
   "source": []
  }
 ],
 "metadata": {
  "kernelspec": {
   "display_name": "Python 3 (ipykernel)",
   "language": "python",
   "name": "python3"
  },
  "language_info": {
   "codemirror_mode": {
    "name": "ipython",
    "version": 3
   },
   "file_extension": ".py",
   "mimetype": "text/x-python",
   "name": "python",
   "nbconvert_exporter": "python",
   "pygments_lexer": "ipython3",
   "version": "3.10.6"
  }
 },
 "nbformat": 4,
 "nbformat_minor": 5
}
