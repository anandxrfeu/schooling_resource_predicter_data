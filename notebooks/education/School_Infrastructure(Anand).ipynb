{
 "cells": [
  {
   "cell_type": "markdown",
   "id": "1381a3e6",
   "metadata": {},
   "source": [
    "# Sinopse Estatistica"
   ]
  },
  {
   "cell_type": "code",
   "execution_count": 1,
   "id": "44576705",
   "metadata": {},
   "outputs": [],
   "source": [
    "import pandas as pd"
   ]
  },
  {
   "cell_type": "code",
   "execution_count": null,
   "id": "79088314",
   "metadata": {},
   "outputs": [],
   "source": [
    "# Convert the corrected string to a DataFrame\n",
    "df = pd.read_csv(\"../raw_data/turmas/turmas_2022.csv\")\n",
    "df.info()"
   ]
  },
  {
   "cell_type": "code",
   "execution_count": null,
   "id": "a2fa8010",
   "metadata": {},
   "outputs": [],
   "source": []
  },
  {
   "cell_type": "code",
   "execution_count": null,
   "id": "c15df184",
   "metadata": {},
   "outputs": [],
   "source": [
    "# Melt the dataframe\n",
    "melted_df = df.melt(id_vars=[\"Região Geográfica\", \"Unidade da Federação\", \"Município\", \"Código do Município\"],\n",
    "                                        value_vars=[\"Urbana\", \"Rural\"],\n",
    "                                        var_name=\"Rede\",\n",
    "                                        value_name=\"Docentes\")\n",
    "\n",
    "# Sort the dataframe for better visualization\n",
    "melted_df = melted_df.sort_values(by=[\"Município\", \"Rede\"]).reset_index(drop=True)\n",
    "\n",
    "melted_df"
   ]
  },
  {
   "cell_type": "markdown",
   "id": "7043cff2",
   "metadata": {},
   "source": [
    "## Teachers dataset"
   ]
  },
  {
   "cell_type": "code",
   "execution_count": 2,
   "id": "7dc90d3f",
   "metadata": {},
   "outputs": [],
   "source": [
    "import pandas as pd\n",
    "import glob\n",
    "import re\n",
    "\n",
    "\n",
    "# Path to the folder containing the CSV files\n",
    "path = '../raw_data/teachers/' \n",
    "all_files = glob.glob(path + \"/*.csv\")\n",
    "\n",
    "# Create a list of dataframes\n",
    "dfs = []\n",
    "\n",
    "for filename in all_files:\n",
    "    df = pd.read_csv(filename)\n",
    "      \n",
    "    match = re.search(r'(?<!\\d)\\d{4}(?!\\d)', filename)\n",
    "    # If match is found, get the matched string, otherwise set year to None\n",
    "    year = match.group() if match else None\n",
    "    \n",
    "    # Melt the dataframe    \n",
    "    melted_df = df.melt(id_vars=[\"Região Geográfica\", \"Unidade da Federação\", \"Município\", \"Código do Município\"],\n",
    "                                        value_vars=[\"Urbana\", \"Rural\"],\n",
    "                                        var_name=\"Rede\",\n",
    "                                        value_name=\"Docentes\")\n",
    "\n",
    "    # Sort the dataframe for better visualization\n",
    "    melted_df = melted_df.sort_values(by=[\"Município\", \"Rede\"]).reset_index(drop=True)\n",
    "    \n",
    "    melted_df[\"Ano\"] = year\n",
    "\n",
    "\n",
    "    dfs.append(melted_df)\n",
    "\n",
    "# Now, dfs is a list where each element is a DataFrame loaded from a CSV file in the folder.\n",
    "\n",
    "\n",
    "# Concatenate all DataFrames together\n",
    "teachers_df = pd.concat(dfs, ignore_index=True)\n",
    "\n",
    "# Write the combined DataFrame to a new CSV file\n",
    "# file_path = \"../transformed_data/cleaned_teachers.csv\"\n",
    "# combined_df.to_csv(file_path, index=False)\n",
    "\n",
    "#drop columns\n",
    "columns_to_drop = ['Região Geográfica', 'Unidade da Federação', 'Município']\n",
    "teachers_df = teachers_df.drop(columns=columns_to_drop)\n",
    "\n",
    "#rename columns\n",
    "teachers_df = teachers_df.rename(columns={\n",
    "    'Código do Município': 'Código_IBGE'\n",
    "})"
   ]
  },
  {
   "cell_type": "code",
   "execution_count": 3,
   "id": "2b46ff2f",
   "metadata": {},
   "outputs": [
    {
     "data": {
      "text/html": [
       "<div>\n",
       "<style scoped>\n",
       "    .dataframe tbody tr th:only-of-type {\n",
       "        vertical-align: middle;\n",
       "    }\n",
       "\n",
       "    .dataframe tbody tr th {\n",
       "        vertical-align: top;\n",
       "    }\n",
       "\n",
       "    .dataframe thead th {\n",
       "        text-align: right;\n",
       "    }\n",
       "</style>\n",
       "<table border=\"1\" class=\"dataframe\">\n",
       "  <thead>\n",
       "    <tr style=\"text-align: right;\">\n",
       "      <th></th>\n",
       "      <th>Código_IBGE</th>\n",
       "      <th>Rede</th>\n",
       "      <th>Docentes</th>\n",
       "      <th>Ano</th>\n",
       "    </tr>\n",
       "  </thead>\n",
       "  <tbody>\n",
       "    <tr>\n",
       "      <th>0</th>\n",
       "      <td>5200050</td>\n",
       "      <td>Rural</td>\n",
       "      <td>-</td>\n",
       "      <td>2018</td>\n",
       "    </tr>\n",
       "    <tr>\n",
       "      <th>1</th>\n",
       "      <td>5200050</td>\n",
       "      <td>Urbana</td>\n",
       "      <td>27</td>\n",
       "      <td>2018</td>\n",
       "    </tr>\n",
       "    <tr>\n",
       "      <th>2</th>\n",
       "      <td>3100104</td>\n",
       "      <td>Rural</td>\n",
       "      <td>-</td>\n",
       "      <td>2018</td>\n",
       "    </tr>\n",
       "    <tr>\n",
       "      <th>3</th>\n",
       "      <td>3100104</td>\n",
       "      <td>Urbana</td>\n",
       "      <td>15</td>\n",
       "      <td>2018</td>\n",
       "    </tr>\n",
       "    <tr>\n",
       "      <th>4</th>\n",
       "      <td>5200100</td>\n",
       "      <td>Rural</td>\n",
       "      <td>-</td>\n",
       "      <td>2018</td>\n",
       "    </tr>\n",
       "    <tr>\n",
       "      <th>...</th>\n",
       "      <td>...</td>\n",
       "      <td>...</td>\n",
       "      <td>...</td>\n",
       "      <td>...</td>\n",
       "    </tr>\n",
       "    <tr>\n",
       "      <th>178173</th>\n",
       "      <td>2900504</td>\n",
       "      <td>Urbana</td>\n",
       "      <td>166</td>\n",
       "      <td>2015</td>\n",
       "    </tr>\n",
       "    <tr>\n",
       "      <th>178174</th>\n",
       "      <td>1505106</td>\n",
       "      <td>Rural</td>\n",
       "      <td>19</td>\n",
       "      <td>2015</td>\n",
       "    </tr>\n",
       "    <tr>\n",
       "      <th>178175</th>\n",
       "      <td>1505106</td>\n",
       "      <td>Urbana</td>\n",
       "      <td>662</td>\n",
       "      <td>2015</td>\n",
       "    </tr>\n",
       "    <tr>\n",
       "      <th>178176</th>\n",
       "      <td>3533809</td>\n",
       "      <td>Rural</td>\n",
       "      <td>0</td>\n",
       "      <td>2015</td>\n",
       "    </tr>\n",
       "    <tr>\n",
       "      <th>178177</th>\n",
       "      <td>3533809</td>\n",
       "      <td>Urbana</td>\n",
       "      <td>32</td>\n",
       "      <td>2015</td>\n",
       "    </tr>\n",
       "  </tbody>\n",
       "</table>\n",
       "<p>178178 rows × 4 columns</p>\n",
       "</div>"
      ],
      "text/plain": [
       "        Código_IBGE    Rede Docentes   Ano\n",
       "0           5200050   Rural     -     2018\n",
       "1           5200050  Urbana       27  2018\n",
       "2           3100104   Rural     -     2018\n",
       "3           3100104  Urbana       15  2018\n",
       "4           5200100   Rural     -     2018\n",
       "...             ...     ...      ...   ...\n",
       "178173      2900504  Urbana      166  2015\n",
       "178174      1505106   Rural       19  2015\n",
       "178175      1505106  Urbana      662  2015\n",
       "178176      3533809   Rural        0  2015\n",
       "178177      3533809  Urbana       32  2015\n",
       "\n",
       "[178178 rows x 4 columns]"
      ]
     },
     "execution_count": 3,
     "metadata": {},
     "output_type": "execute_result"
    }
   ],
   "source": [
    "teachers_df"
   ]
  },
  {
   "cell_type": "code",
   "execution_count": null,
   "id": "0a69a12e",
   "metadata": {},
   "outputs": [],
   "source": [
    "teachers_df['Código_IBGE'] = teachers_df['Código_IBGE'].astype(str).str.replace(',', '').astype(int)\n"
   ]
  },
  {
   "cell_type": "code",
   "execution_count": 4,
   "id": "e8d856af",
   "metadata": {},
   "outputs": [
    {
     "data": {
      "text/plain": [
       "(5570, 16)"
      ]
     },
     "execution_count": 4,
     "metadata": {},
     "output_type": "execute_result"
    }
   ],
   "source": [
    "len(teachers_df.Código_IBGE.unique()), len(sorted(list(teachers_df.Ano.unique())))"
   ]
  },
  {
   "cell_type": "code",
   "execution_count": null,
   "id": "ef744793",
   "metadata": {},
   "outputs": [],
   "source": []
  },
  {
   "cell_type": "markdown",
   "id": "e431c5dd",
   "metadata": {},
   "source": [
    "## Students dataset"
   ]
  },
  {
   "cell_type": "code",
   "execution_count": 5,
   "id": "2b5f1773",
   "metadata": {},
   "outputs": [],
   "source": [
    "import pandas as pd\n",
    "import glob\n",
    "import re\n",
    "\n",
    "\n",
    "# Path to the folder containing the CSV files\n",
    "path = '../raw_data/students/' \n",
    "all_files = glob.glob(path + \"/*.csv\")\n",
    "\n",
    "# Create a list of dataframes\n",
    "dfs = []\n",
    "\n",
    "for filename in all_files:\n",
    "    df = pd.read_csv(filename)\n",
    "      \n",
    "    match = re.search(r'(?<!\\d)\\d{4}(?!\\d)', filename)\n",
    "    # If match is found, get the matched string, otherwise set year to None\n",
    "    year = match.group() if match else None\n",
    "    \n",
    "    # Melt the dataframe    \n",
    "    melted_df = df.melt(id_vars=[\"Região Geográfica\", \"Unidade da Federação\", \"Município\", \"Código do Município\"],\n",
    "                                        value_vars=[\"Urbana\", \"Rural\"],\n",
    "                                        var_name=\"Rede\",\n",
    "                                        value_name=\"Matrículas\")\n",
    "\n",
    "    # Sort the dataframe for better visualization\n",
    "    melted_df = melted_df.sort_values(by=[\"Município\", \"Rede\"]).reset_index(drop=True)\n",
    "    \n",
    "    melted_df[\"Ano\"] = year\n",
    "\n",
    "\n",
    "    dfs.append(melted_df)\n",
    "\n",
    "# Now, dfs is a list where each element is a DataFrame loaded from a CSV file in the folder.\n",
    "\n",
    "\n",
    "# Concatenate all DataFrames together\n",
    "students_df = pd.concat(dfs, ignore_index=True)\n",
    "\n",
    "#drop columns\n",
    "columns_to_drop = ['Região Geográfica', 'Unidade da Federação', 'Município']\n",
    "students_df = students_df.drop(columns=columns_to_drop)\n",
    "\n",
    "#rename columns\n",
    "students_df = students_df.rename(columns={\n",
    "    'Código do Município': 'Código_IBGE'\n",
    "})\n",
    "\n",
    "# Write the combined DataFrame to a new CSV file\n",
    "# file_path = \"../transformed_data/cleaned_students.csv\"\n",
    "# combined_df.to_csv(file_path, index=False)"
   ]
  },
  {
   "cell_type": "code",
   "execution_count": null,
   "id": "3eed6fb1",
   "metadata": {},
   "outputs": [],
   "source": [
    "students_df"
   ]
  },
  {
   "cell_type": "code",
   "execution_count": 6,
   "id": "0f6d4224",
   "metadata": {},
   "outputs": [
    {
     "data": {
      "text/plain": [
       "(5570, 16)"
      ]
     },
     "execution_count": 6,
     "metadata": {},
     "output_type": "execute_result"
    }
   ],
   "source": [
    "len(students_df.Código_IBGE.unique()), len(sorted(list(students_df.Ano.unique())))"
   ]
  },
  {
   "cell_type": "markdown",
   "id": "f88f0611",
   "metadata": {},
   "source": [
    "## Schools dataset"
   ]
  },
  {
   "cell_type": "code",
   "execution_count": 7,
   "id": "b66ba161",
   "metadata": {},
   "outputs": [],
   "source": [
    "import pandas as pd\n",
    "import glob\n",
    "import re\n",
    "\n",
    "\n",
    "# Path to the folder containing the CSV files\n",
    "path = '../raw_data/schools/' \n",
    "all_files = glob.glob(path + \"/*.csv\")\n",
    "\n",
    "# Create a list of dataframes\n",
    "dfs = []\n",
    "\n",
    "for filename in all_files:\n",
    "    df = pd.read_csv(filename)\n",
    "      \n",
    "    match = re.search(r'(?<!\\d)\\d{4}(?!\\d)', filename)\n",
    "    # If match is found, get the matched string, otherwise set year to None\n",
    "    year = match.group() if match else None\n",
    "    \n",
    "    # Melt the dataframe    \n",
    "    melted_df = df.melt(id_vars=[\"Região Geográfica\", \"Unidade da Federação\", \"Município\", \"Código do Município\"],\n",
    "                                        value_vars=[\"Urbana\", \"Rural\"],\n",
    "                                        var_name=\"Rede\",\n",
    "                                        value_name=\"Estabelecimentos\")\n",
    "\n",
    "    # Sort the dataframe for better visualization\n",
    "    melted_df = melted_df.sort_values(by=[\"Município\", \"Rede\"]).reset_index(drop=True)\n",
    "    \n",
    "    melted_df[\"Ano\"] = year\n",
    "\n",
    "\n",
    "    dfs.append(melted_df)\n",
    "\n",
    "# Now, dfs is a list where each element is a DataFrame loaded from a CSV file in the folder.\n",
    "\n",
    "\n",
    "# Concatenate all DataFrames together\n",
    "schools_df = pd.concat(dfs, ignore_index=True)\n",
    "\n",
    "#drop columns\n",
    "columns_to_drop = ['Região Geográfica', 'Unidade da Federação', 'Município']\n",
    "schools_df = schools_df.drop(columns=columns_to_drop)\n",
    "\n",
    "#rename columns\n",
    "schools_df = schools_df.rename(columns={\n",
    "    'Código do Município': 'Código_IBGE'\n",
    "})\n",
    "\n",
    "# Write the combined DataFrame to a new CSV file\n",
    "# file_path = \"../transformed_data/cleaned_schools.csv\"\n",
    "# combined_df.to_csv(file_path, index=False)"
   ]
  },
  {
   "cell_type": "code",
   "execution_count": null,
   "id": "4a233515",
   "metadata": {},
   "outputs": [],
   "source": []
  },
  {
   "cell_type": "code",
   "execution_count": 8,
   "id": "492f7090",
   "metadata": {},
   "outputs": [
    {
     "data": {
      "text/plain": [
       "(5570, 16)"
      ]
     },
     "execution_count": 8,
     "metadata": {},
     "output_type": "execute_result"
    }
   ],
   "source": [
    "len(schools_df.Código_IBGE.unique()), len(sorted(list(schools_df.Ano.unique())))"
   ]
  },
  {
   "cell_type": "markdown",
   "id": "c19e1e6a",
   "metadata": {},
   "source": [
    "## Turmas dataset"
   ]
  },
  {
   "cell_type": "code",
   "execution_count": 9,
   "id": "f1b7da43",
   "metadata": {},
   "outputs": [],
   "source": [
    "import pandas as pd\n",
    "import glob\n",
    "import re\n",
    "\n",
    "\n",
    "# Path to the folder containing the CSV files\n",
    "path = '../raw_data/turmas/' \n",
    "all_files = glob.glob(path + \"/*.csv\")\n",
    "\n",
    "# Create a list of dataframes\n",
    "dfs = []\n",
    "\n",
    "for filename in all_files:\n",
    "    df = pd.read_csv(filename)\n",
    "      \n",
    "    match = re.search(r'(?<!\\d)\\d{4}(?!\\d)', filename)\n",
    "    # If match is found, get the matched string, otherwise set year to None\n",
    "    year = match.group() if match else None\n",
    "    \n",
    "    # Melt the dataframe    \n",
    "    melted_df = df.melt(id_vars=[\"Região Geográfica\", \"Unidade da Federação\", \"Município\", \"Código do Município\"],\n",
    "                                        value_vars=[\"Urbana\", \"Rural\"],\n",
    "                                        var_name=\"Rede\",\n",
    "                                        value_name=\"Turmas\")\n",
    "\n",
    "    # Sort the dataframe for better visualization\n",
    "    melted_df = melted_df.sort_values(by=[\"Município\", \"Rede\"]).reset_index(drop=True)\n",
    "    \n",
    "    melted_df[\"Ano\"] = year\n",
    "\n",
    "\n",
    "    dfs.append(melted_df)\n",
    "\n",
    "# Now, dfs is a list where each element is a DataFrame loaded from a CSV file in the folder.\n",
    "\n",
    "\n",
    "# Concatenate all DataFrames together\n",
    "batch_df = pd.concat(dfs, ignore_index=True)\n",
    "\n",
    "#drop columns\n",
    "columns_to_drop = ['Região Geográfica', 'Unidade da Federação', 'Município']\n",
    "batch_df = batch_df.drop(columns=columns_to_drop)\n",
    "\n",
    "#rename columns\n",
    "batch_df = batch_df.rename(columns={\n",
    "    'Código do Município': 'Código_IBGE'\n",
    "})\n",
    "\n",
    "# Write the combined DataFrame to a new CSV file\n",
    "# file_path = \"../transformed_data/cleaned_turmas.csv\"\n",
    "# combined_df.to_csv(file_path, index=False)"
   ]
  },
  {
   "cell_type": "code",
   "execution_count": null,
   "id": "ba4fce5d",
   "metadata": {},
   "outputs": [],
   "source": [
    "batch_df"
   ]
  },
  {
   "cell_type": "code",
   "execution_count": 10,
   "id": "d8d0dfb6",
   "metadata": {},
   "outputs": [
    {
     "data": {
      "text/plain": [
       "(5570, 16)"
      ]
     },
     "execution_count": 10,
     "metadata": {},
     "output_type": "execute_result"
    }
   ],
   "source": [
    "len(batch_df.Código_IBGE.unique()), len(sorted(list(batch_df.Ano.unique())))"
   ]
  },
  {
   "cell_type": "markdown",
   "id": "54de9462",
   "metadata": {},
   "source": [
    "## Combinine all datasets"
   ]
  },
  {
   "cell_type": "code",
   "execution_count": 14,
   "id": "4c890490",
   "metadata": {},
   "outputs": [
    {
     "data": {
      "text/html": [
       "<div>\n",
       "<style scoped>\n",
       "    .dataframe tbody tr th:only-of-type {\n",
       "        vertical-align: middle;\n",
       "    }\n",
       "\n",
       "    .dataframe tbody tr th {\n",
       "        vertical-align: top;\n",
       "    }\n",
       "\n",
       "    .dataframe thead th {\n",
       "        text-align: right;\n",
       "    }\n",
       "</style>\n",
       "<table border=\"1\" class=\"dataframe\">\n",
       "  <thead>\n",
       "    <tr style=\"text-align: right;\">\n",
       "      <th></th>\n",
       "      <th>Código_IBGE</th>\n",
       "      <th>Localização</th>\n",
       "      <th>Matrículas</th>\n",
       "      <th>Ano</th>\n",
       "      <th>Docentes</th>\n",
       "      <th>Estabelecimentos</th>\n",
       "      <th>Turmas</th>\n",
       "    </tr>\n",
       "  </thead>\n",
       "  <tbody>\n",
       "    <tr>\n",
       "      <th>0</th>\n",
       "      <td>5200050</td>\n",
       "      <td>Rural</td>\n",
       "      <td>0</td>\n",
       "      <td>2009</td>\n",
       "      <td>0</td>\n",
       "      <td>0</td>\n",
       "      <td>0</td>\n",
       "    </tr>\n",
       "    <tr>\n",
       "      <th>1</th>\n",
       "      <td>5200050</td>\n",
       "      <td>Urbana</td>\n",
       "      <td>302</td>\n",
       "      <td>2009</td>\n",
       "      <td>19</td>\n",
       "      <td>1</td>\n",
       "      <td>12</td>\n",
       "    </tr>\n",
       "    <tr>\n",
       "      <th>2</th>\n",
       "      <td>3100104</td>\n",
       "      <td>Rural</td>\n",
       "      <td>0</td>\n",
       "      <td>2009</td>\n",
       "      <td>0</td>\n",
       "      <td>0</td>\n",
       "      <td>0</td>\n",
       "    </tr>\n",
       "    <tr>\n",
       "      <th>3</th>\n",
       "      <td>3100104</td>\n",
       "      <td>Urbana</td>\n",
       "      <td>211</td>\n",
       "      <td>2009</td>\n",
       "      <td>16</td>\n",
       "      <td>1</td>\n",
       "      <td>7</td>\n",
       "    </tr>\n",
       "    <tr>\n",
       "      <th>4</th>\n",
       "      <td>5200100</td>\n",
       "      <td>Rural</td>\n",
       "      <td>0</td>\n",
       "      <td>2009</td>\n",
       "      <td>0</td>\n",
       "      <td>0</td>\n",
       "      <td>0</td>\n",
       "    </tr>\n",
       "  </tbody>\n",
       "</table>\n",
       "</div>"
      ],
      "text/plain": [
       "   Código_IBGE Localização Matrículas   Ano Docentes  Estabelecimentos Turmas\n",
       "0      5200050       Rural          0  2009        0                 0      0\n",
       "1      5200050      Urbana        302  2009       19                 1     12\n",
       "2      3100104       Rural          0  2009        0                 0      0\n",
       "3      3100104      Urbana        211  2009       16                 1      7\n",
       "4      5200100       Rural          0  2009        0                 0      0"
      ]
     },
     "execution_count": 14,
     "metadata": {},
     "output_type": "execute_result"
    }
   ],
   "source": [
    "from functools import reduce\n",
    "\n",
    "# List of dataframes to merge\n",
    "dfs = [students_df, teachers_df, schools_df, batch_df]\n",
    "\n",
    "# Merging all dataframes in the list based on the common columns\n",
    "\n",
    "merged_all_df = reduce(lambda left, right: pd.merge(left, right, on=['Ano', 'Código_IBGE', 'Rede'], how='outer'), dfs)\n",
    "\n",
    "#rename columns\n",
    "merged_all_df = merged_all_df.rename(columns={\n",
    "    'Rede': 'Localização'\n",
    "})\n",
    "\n",
    "merged_all_df.head()  # Displaying the first few rows of the merged dataframe"
   ]
  },
  {
   "cell_type": "code",
   "execution_count": 15,
   "id": "e69679eb",
   "metadata": {},
   "outputs": [
    {
     "data": {
      "text/plain": [
       "5570"
      ]
     },
     "execution_count": 15,
     "metadata": {},
     "output_type": "execute_result"
    }
   ],
   "source": [
    "len(list(merged_all_df.Código_IBGE.unique()))"
   ]
  },
  {
   "cell_type": "code",
   "execution_count": 16,
   "id": "874b5b68",
   "metadata": {},
   "outputs": [],
   "source": [
    "# Write the combined DataFrame to a new CSV file\n",
    "file_path = \"../transformed_data/school_infrastructure_per_municipality.csv\"\n",
    "merged_all_df.to_csv(file_path, index=False)"
   ]
  },
  {
   "cell_type": "code",
   "execution_count": null,
   "id": "f092f560",
   "metadata": {},
   "outputs": [],
   "source": []
  },
  {
   "cell_type": "code",
   "execution_count": null,
   "id": "8a47d4ec",
   "metadata": {},
   "outputs": [],
   "source": []
  }
 ],
 "metadata": {
  "kernelspec": {
   "display_name": "Python 3 (ipykernel)",
   "language": "python",
   "name": "python3"
  },
  "language_info": {
   "codemirror_mode": {
    "name": "ipython",
    "version": 3
   },
   "file_extension": ".py",
   "mimetype": "text/x-python",
   "name": "python",
   "nbconvert_exporter": "python",
   "pygments_lexer": "ipython3",
   "version": "3.10.6"
  }
 },
 "nbformat": 4,
 "nbformat_minor": 5
}
