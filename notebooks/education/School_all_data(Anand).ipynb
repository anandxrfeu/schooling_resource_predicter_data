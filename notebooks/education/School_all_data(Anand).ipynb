{
 "cells": [
  {
   "cell_type": "markdown",
   "id": "ddc843de",
   "metadata": {},
   "source": [
    "# School (all data)"
   ]
  },
  {
   "cell_type": "markdown",
   "id": "b0ca4d3d",
   "metadata": {},
   "source": [
    "This notebook intends to combine school performance data and infrastructure data. The resulting dataset would contain the following rows. \n",
    "\n",
    "- Ano \n",
    "- Código_IBGE\n",
    "- Localização\n",
    "- Aprovação\n",
    "- Reprovação\n",
    "- Abandono\n",
    "- Matrículas\n",
    "- Docentes\n",
    "- Estabelecimentos\n",
    "- Turmas"
   ]
  },
  {
   "cell_type": "code",
   "execution_count": 1,
   "id": "17a3943b",
   "metadata": {},
   "outputs": [],
   "source": [
    "import pandas as pd"
   ]
  },
  {
   "cell_type": "markdown",
   "id": "b40c2d13",
   "metadata": {},
   "source": [
    "## School performance dataset "
   ]
  },
  {
   "cell_type": "code",
   "execution_count": 13,
   "id": "577a2a3c",
   "metadata": {},
   "outputs": [],
   "source": [
    "# Load performance dataset\n",
    "performance_df = pd.read_csv(\"../../transformed_data/school_data/school_performance_per_municipality.csv\")"
   ]
  },
  {
   "cell_type": "code",
   "execution_count": 14,
   "id": "ccf4ccd8",
   "metadata": {},
   "outputs": [
    {
     "data": {
      "text/html": [
       "<div>\n",
       "<style scoped>\n",
       "    .dataframe tbody tr th:only-of-type {\n",
       "        vertical-align: middle;\n",
       "    }\n",
       "\n",
       "    .dataframe tbody tr th {\n",
       "        vertical-align: top;\n",
       "    }\n",
       "\n",
       "    .dataframe thead th {\n",
       "        text-align: right;\n",
       "    }\n",
       "</style>\n",
       "<table border=\"1\" class=\"dataframe\">\n",
       "  <thead>\n",
       "    <tr style=\"text-align: right;\">\n",
       "      <th></th>\n",
       "      <th>Ano</th>\n",
       "      <th>Código_IBGE</th>\n",
       "      <th>Localização</th>\n",
       "      <th>Aprovação</th>\n",
       "      <th>Reprovação</th>\n",
       "      <th>Abandono</th>\n",
       "    </tr>\n",
       "  </thead>\n",
       "  <tbody>\n",
       "  </tbody>\n",
       "</table>\n",
       "</div>"
      ],
      "text/plain": [
       "Empty DataFrame\n",
       "Columns: [Ano, Código_IBGE, Localização, Aprovação, Reprovação, Abandono]\n",
       "Index: []"
      ]
     },
     "execution_count": 14,
     "metadata": {},
     "output_type": "execute_result"
    }
   ],
   "source": [
    "# check if there is any instance of NaN in any of the rows\n",
    "performance_df[performance_df.isna().any(axis=1)]"
   ]
  },
  {
   "cell_type": "code",
   "execution_count": 15,
   "id": "5af362c8",
   "metadata": {
    "collapsed": true
   },
   "outputs": [
    {
     "data": {
      "text/html": [
       "<div>\n",
       "<style scoped>\n",
       "    .dataframe tbody tr th:only-of-type {\n",
       "        vertical-align: middle;\n",
       "    }\n",
       "\n",
       "    .dataframe tbody tr th {\n",
       "        vertical-align: top;\n",
       "    }\n",
       "\n",
       "    .dataframe thead th {\n",
       "        text-align: right;\n",
       "    }\n",
       "</style>\n",
       "<table border=\"1\" class=\"dataframe\">\n",
       "  <thead>\n",
       "    <tr style=\"text-align: right;\">\n",
       "      <th></th>\n",
       "      <th>Ano</th>\n",
       "      <th>Código_IBGE</th>\n",
       "      <th>Localização</th>\n",
       "      <th>Aprovação</th>\n",
       "      <th>Reprovação</th>\n",
       "      <th>Abandono</th>\n",
       "    </tr>\n",
       "  </thead>\n",
       "  <tbody>\n",
       "    <tr>\n",
       "      <th>0</th>\n",
       "      <td>2008</td>\n",
       "      <td>1100015</td>\n",
       "      <td>Rural</td>\n",
       "      <td>--</td>\n",
       "      <td>--</td>\n",
       "      <td>--</td>\n",
       "    </tr>\n",
       "    <tr>\n",
       "      <th>1</th>\n",
       "      <td>2008</td>\n",
       "      <td>1100023</td>\n",
       "      <td>Rural</td>\n",
       "      <td>--</td>\n",
       "      <td>--</td>\n",
       "      <td>--</td>\n",
       "    </tr>\n",
       "    <tr>\n",
       "      <th>2</th>\n",
       "      <td>2008</td>\n",
       "      <td>1100049</td>\n",
       "      <td>Rural</td>\n",
       "      <td>--</td>\n",
       "      <td>--</td>\n",
       "      <td>--</td>\n",
       "    </tr>\n",
       "    <tr>\n",
       "      <th>3</th>\n",
       "      <td>2008</td>\n",
       "      <td>1100056</td>\n",
       "      <td>Rural</td>\n",
       "      <td>--</td>\n",
       "      <td>--</td>\n",
       "      <td>--</td>\n",
       "    </tr>\n",
       "    <tr>\n",
       "      <th>5</th>\n",
       "      <td>2008</td>\n",
       "      <td>1100072</td>\n",
       "      <td>Rural</td>\n",
       "      <td>--</td>\n",
       "      <td>--</td>\n",
       "      <td>--</td>\n",
       "    </tr>\n",
       "    <tr>\n",
       "      <th>...</th>\n",
       "      <td>...</td>\n",
       "      <td>...</td>\n",
       "      <td>...</td>\n",
       "      <td>...</td>\n",
       "      <td>...</td>\n",
       "      <td>...</td>\n",
       "    </tr>\n",
       "    <tr>\n",
       "      <th>149750</th>\n",
       "      <td>2022</td>\n",
       "      <td>4310538</td>\n",
       "      <td>Urbana</td>\n",
       "      <td>--</td>\n",
       "      <td>--</td>\n",
       "      <td>--</td>\n",
       "    </tr>\n",
       "    <tr>\n",
       "      <th>149779</th>\n",
       "      <td>2022</td>\n",
       "      <td>4311734</td>\n",
       "      <td>Urbana</td>\n",
       "      <td>--</td>\n",
       "      <td>--</td>\n",
       "      <td>--</td>\n",
       "    </tr>\n",
       "    <tr>\n",
       "      <th>149906</th>\n",
       "      <td>2022</td>\n",
       "      <td>4316972</td>\n",
       "      <td>Urbana</td>\n",
       "      <td>--</td>\n",
       "      <td>--</td>\n",
       "      <td>--</td>\n",
       "    </tr>\n",
       "    <tr>\n",
       "      <th>149936</th>\n",
       "      <td>2022</td>\n",
       "      <td>4318614</td>\n",
       "      <td>Urbana</td>\n",
       "      <td>--</td>\n",
       "      <td>--</td>\n",
       "      <td>--</td>\n",
       "    </tr>\n",
       "    <tr>\n",
       "      <th>149947</th>\n",
       "      <td>2022</td>\n",
       "      <td>4319356</td>\n",
       "      <td>Urbana</td>\n",
       "      <td>--</td>\n",
       "      <td>--</td>\n",
       "      <td>--</td>\n",
       "    </tr>\n",
       "  </tbody>\n",
       "</table>\n",
       "<p>47612 rows × 6 columns</p>\n",
       "</div>"
      ],
      "text/plain": [
       "         Ano  Código_IBGE Localização Aprovação Reprovação Abandono\n",
       "0       2008      1100015       Rural        --         --       --\n",
       "1       2008      1100023       Rural        --         --       --\n",
       "2       2008      1100049       Rural        --         --       --\n",
       "3       2008      1100056       Rural        --         --       --\n",
       "5       2008      1100072       Rural        --         --       --\n",
       "...      ...          ...         ...       ...        ...      ...\n",
       "149750  2022      4310538      Urbana        --         --       --\n",
       "149779  2022      4311734      Urbana        --         --       --\n",
       "149906  2022      4316972      Urbana        --         --       --\n",
       "149936  2022      4318614      Urbana        --         --       --\n",
       "149947  2022      4319356      Urbana        --         --       --\n",
       "\n",
       "[47612 rows x 6 columns]"
      ]
     },
     "execution_count": 15,
     "metadata": {},
     "output_type": "execute_result"
    }
   ],
   "source": [
    "# check if there is any instance of -- in any of the rows\n",
    "performance_df[performance_df.eq(\"--\").any(axis=1)] "
   ]
  },
  {
   "cell_type": "code",
   "execution_count": 16,
   "id": "3ad6d404",
   "metadata": {
    "collapsed": true
   },
   "outputs": [
    {
     "data": {
      "text/html": [
       "<div>\n",
       "<style scoped>\n",
       "    .dataframe tbody tr th:only-of-type {\n",
       "        vertical-align: middle;\n",
       "    }\n",
       "\n",
       "    .dataframe tbody tr th {\n",
       "        vertical-align: top;\n",
       "    }\n",
       "\n",
       "    .dataframe thead th {\n",
       "        text-align: right;\n",
       "    }\n",
       "</style>\n",
       "<table border=\"1\" class=\"dataframe\">\n",
       "  <thead>\n",
       "    <tr style=\"text-align: right;\">\n",
       "      <th></th>\n",
       "      <th>Ano</th>\n",
       "      <th>Código_IBGE</th>\n",
       "      <th>Localização</th>\n",
       "      <th>Aprovação</th>\n",
       "      <th>Reprovação</th>\n",
       "      <th>Abandono</th>\n",
       "    </tr>\n",
       "  </thead>\n",
       "  <tbody>\n",
       "    <tr>\n",
       "      <th>4</th>\n",
       "      <td>2008</td>\n",
       "      <td>1100064</td>\n",
       "      <td>Rural</td>\n",
       "      <td>77.7</td>\n",
       "      <td>22</td>\n",
       "      <td>0.3</td>\n",
       "    </tr>\n",
       "    <tr>\n",
       "      <th>9</th>\n",
       "      <td>2008</td>\n",
       "      <td>1100114</td>\n",
       "      <td>Rural</td>\n",
       "      <td>72.2</td>\n",
       "      <td>12.8</td>\n",
       "      <td>15</td>\n",
       "    </tr>\n",
       "    <tr>\n",
       "      <th>10</th>\n",
       "      <td>2008</td>\n",
       "      <td>1100122</td>\n",
       "      <td>Rural</td>\n",
       "      <td>93.3</td>\n",
       "      <td>2.1</td>\n",
       "      <td>4.6</td>\n",
       "    </tr>\n",
       "    <tr>\n",
       "      <th>12</th>\n",
       "      <td>2008</td>\n",
       "      <td>1100148</td>\n",
       "      <td>Rural</td>\n",
       "      <td>85.8</td>\n",
       "      <td>0.9</td>\n",
       "      <td>13.3</td>\n",
       "    </tr>\n",
       "    <tr>\n",
       "      <th>15</th>\n",
       "      <td>2008</td>\n",
       "      <td>1100205</td>\n",
       "      <td>Rural</td>\n",
       "      <td>72.1</td>\n",
       "      <td>7.2</td>\n",
       "      <td>20.7</td>\n",
       "    </tr>\n",
       "    <tr>\n",
       "      <th>...</th>\n",
       "      <td>...</td>\n",
       "      <td>...</td>\n",
       "      <td>...</td>\n",
       "      <td>...</td>\n",
       "      <td>...</td>\n",
       "      <td>...</td>\n",
       "    </tr>\n",
       "    <tr>\n",
       "      <th>150498</th>\n",
       "      <td>2022</td>\n",
       "      <td>5222005</td>\n",
       "      <td>Urbana</td>\n",
       "      <td>99.2</td>\n",
       "      <td>0.8</td>\n",
       "      <td>0.0</td>\n",
       "    </tr>\n",
       "    <tr>\n",
       "      <th>150499</th>\n",
       "      <td>2022</td>\n",
       "      <td>5222054</td>\n",
       "      <td>Urbana</td>\n",
       "      <td>99.3</td>\n",
       "      <td>0.7</td>\n",
       "      <td>0.0</td>\n",
       "    </tr>\n",
       "    <tr>\n",
       "      <th>150500</th>\n",
       "      <td>2022</td>\n",
       "      <td>5222203</td>\n",
       "      <td>Urbana</td>\n",
       "      <td>100.0</td>\n",
       "      <td>0.0</td>\n",
       "      <td>0.0</td>\n",
       "    </tr>\n",
       "    <tr>\n",
       "      <th>150501</th>\n",
       "      <td>2022</td>\n",
       "      <td>5222302</td>\n",
       "      <td>Urbana</td>\n",
       "      <td>90.5</td>\n",
       "      <td>5.2</td>\n",
       "      <td>4.3</td>\n",
       "    </tr>\n",
       "    <tr>\n",
       "      <th>150502</th>\n",
       "      <td>2022</td>\n",
       "      <td>5300108</td>\n",
       "      <td>Urbana</td>\n",
       "      <td>85.5</td>\n",
       "      <td>9.8</td>\n",
       "      <td>4.7</td>\n",
       "    </tr>\n",
       "  </tbody>\n",
       "</table>\n",
       "<p>102891 rows × 6 columns</p>\n",
       "</div>"
      ],
      "text/plain": [
       "         Ano  Código_IBGE Localização Aprovação Reprovação Abandono\n",
       "4       2008      1100064       Rural      77.7         22      0.3\n",
       "9       2008      1100114       Rural      72.2       12.8       15\n",
       "10      2008      1100122       Rural      93.3        2.1      4.6\n",
       "12      2008      1100148       Rural      85.8        0.9     13.3\n",
       "15      2008      1100205       Rural      72.1        7.2     20.7\n",
       "...      ...          ...         ...       ...        ...      ...\n",
       "150498  2022      5222005      Urbana      99.2        0.8      0.0\n",
       "150499  2022      5222054      Urbana      99.3        0.7      0.0\n",
       "150500  2022      5222203      Urbana     100.0        0.0      0.0\n",
       "150501  2022      5222302      Urbana      90.5        5.2      4.3\n",
       "150502  2022      5300108      Urbana      85.5        9.8      4.7\n",
       "\n",
       "[102891 rows x 6 columns]"
      ]
     },
     "execution_count": 16,
     "metadata": {},
     "output_type": "execute_result"
    }
   ],
   "source": [
    "# remove instances of -- \n",
    "performance_df = performance_df[performance_df.ne(\"--\").all(axis=1)]\n",
    "performance_df"
   ]
  },
  {
   "cell_type": "markdown",
   "id": "30d9d52f",
   "metadata": {},
   "source": [
    "## School infrastructure data"
   ]
  },
  {
   "cell_type": "code",
   "execution_count": 18,
   "id": "15b1408e",
   "metadata": {},
   "outputs": [],
   "source": [
    "# Load infrastructure dataset\n",
    "infrastructure_df = pd.read_csv(\"../../transformed_data/school_data/school_infrastructure_per_municipality.csv\")"
   ]
  },
  {
   "cell_type": "code",
   "execution_count": 19,
   "id": "1338cec4",
   "metadata": {},
   "outputs": [
    {
     "data": {
      "text/html": [
       "<div>\n",
       "<style scoped>\n",
       "    .dataframe tbody tr th:only-of-type {\n",
       "        vertical-align: middle;\n",
       "    }\n",
       "\n",
       "    .dataframe tbody tr th {\n",
       "        vertical-align: top;\n",
       "    }\n",
       "\n",
       "    .dataframe thead th {\n",
       "        text-align: right;\n",
       "    }\n",
       "</style>\n",
       "<table border=\"1\" class=\"dataframe\">\n",
       "  <thead>\n",
       "    <tr style=\"text-align: right;\">\n",
       "      <th></th>\n",
       "      <th>Código_IBGE</th>\n",
       "      <th>Localização</th>\n",
       "      <th>Matrículas</th>\n",
       "      <th>Ano</th>\n",
       "      <th>Docentes</th>\n",
       "      <th>Estabelecimentos</th>\n",
       "      <th>Turmas</th>\n",
       "    </tr>\n",
       "  </thead>\n",
       "  <tbody>\n",
       "    <tr>\n",
       "      <th>123954</th>\n",
       "      <td>5300108</td>\n",
       "      <td>Rural</td>\n",
       "      <td>1758</td>\n",
       "      <td>2012</td>\n",
       "      <td>NaN</td>\n",
       "      <td>10</td>\n",
       "      <td>60</td>\n",
       "    </tr>\n",
       "    <tr>\n",
       "      <th>123955</th>\n",
       "      <td>5300108</td>\n",
       "      <td>Urbana</td>\n",
       "      <td>81536</td>\n",
       "      <td>2012</td>\n",
       "      <td>NaN</td>\n",
       "      <td>79</td>\n",
       "      <td>2,247</td>\n",
       "    </tr>\n",
       "  </tbody>\n",
       "</table>\n",
       "</div>"
      ],
      "text/plain": [
       "        Código_IBGE Localização Matrículas   Ano Docentes  Estabelecimentos  \\\n",
       "123954      5300108       Rural       1758  2012      NaN                10   \n",
       "123955      5300108      Urbana      81536  2012      NaN                79   \n",
       "\n",
       "       Turmas  \n",
       "123954     60  \n",
       "123955  2,247  "
      ]
     },
     "execution_count": 19,
     "metadata": {},
     "output_type": "execute_result"
    }
   ],
   "source": [
    "# check if there is any instance of NaN in any of the rows\n",
    "infrastructure_df[infrastructure_df.isna().any(axis=1)]"
   ]
  },
  {
   "cell_type": "code",
   "execution_count": 23,
   "id": "1a3ae8da",
   "metadata": {},
   "outputs": [],
   "source": [
    "# remove NaN values\n",
    "infrastructure_df = infrastructure_df.dropna()"
   ]
  },
  {
   "cell_type": "code",
   "execution_count": 24,
   "id": "790c275b",
   "metadata": {},
   "outputs": [
    {
     "data": {
      "text/html": [
       "<div>\n",
       "<style scoped>\n",
       "    .dataframe tbody tr th:only-of-type {\n",
       "        vertical-align: middle;\n",
       "    }\n",
       "\n",
       "    .dataframe tbody tr th {\n",
       "        vertical-align: top;\n",
       "    }\n",
       "\n",
       "    .dataframe thead th {\n",
       "        text-align: right;\n",
       "    }\n",
       "</style>\n",
       "<table border=\"1\" class=\"dataframe\">\n",
       "  <thead>\n",
       "    <tr style=\"text-align: right;\">\n",
       "      <th></th>\n",
       "      <th>Código_IBGE</th>\n",
       "      <th>Localização</th>\n",
       "      <th>Matrículas</th>\n",
       "      <th>Ano</th>\n",
       "      <th>Docentes</th>\n",
       "      <th>Estabelecimentos</th>\n",
       "      <th>Turmas</th>\n",
       "    </tr>\n",
       "  </thead>\n",
       "  <tbody>\n",
       "  </tbody>\n",
       "</table>\n",
       "</div>"
      ],
      "text/plain": [
       "Empty DataFrame\n",
       "Columns: [Código_IBGE, Localização, Matrículas, Ano, Docentes, Estabelecimentos, Turmas]\n",
       "Index: []"
      ]
     },
     "execution_count": 24,
     "metadata": {},
     "output_type": "execute_result"
    }
   ],
   "source": [
    "infrastructure_df[infrastructure_df.isna().any(axis=1)]"
   ]
  },
  {
   "cell_type": "code",
   "execution_count": 25,
   "id": "302e0e13",
   "metadata": {},
   "outputs": [
    {
     "data": {
      "text/html": [
       "<div>\n",
       "<style scoped>\n",
       "    .dataframe tbody tr th:only-of-type {\n",
       "        vertical-align: middle;\n",
       "    }\n",
       "\n",
       "    .dataframe tbody tr th {\n",
       "        vertical-align: top;\n",
       "    }\n",
       "\n",
       "    .dataframe thead th {\n",
       "        text-align: right;\n",
       "    }\n",
       "</style>\n",
       "<table border=\"1\" class=\"dataframe\">\n",
       "  <thead>\n",
       "    <tr style=\"text-align: right;\">\n",
       "      <th></th>\n",
       "      <th>Código_IBGE</th>\n",
       "      <th>Localização</th>\n",
       "      <th>Matrículas</th>\n",
       "      <th>Ano</th>\n",
       "      <th>Docentes</th>\n",
       "      <th>Estabelecimentos</th>\n",
       "      <th>Turmas</th>\n",
       "    </tr>\n",
       "  </thead>\n",
       "  <tbody>\n",
       "  </tbody>\n",
       "</table>\n",
       "</div>"
      ],
      "text/plain": [
       "Empty DataFrame\n",
       "Columns: [Código_IBGE, Localização, Matrículas, Ano, Docentes, Estabelecimentos, Turmas]\n",
       "Index: []"
      ]
     },
     "execution_count": 25,
     "metadata": {},
     "output_type": "execute_result"
    }
   ],
   "source": [
    "# check if there is any instance of -- in any of the rows\n",
    "infrastructure_df[infrastructure_df.eq(\"--\").any(axis=1)] "
   ]
  },
  {
   "cell_type": "markdown",
   "id": "08795382",
   "metadata": {},
   "source": [
    "## Validate IBGE Code and Year as primary keys"
   ]
  },
  {
   "cell_type": "code",
   "execution_count": 35,
   "id": "7c5dcc8d",
   "metadata": {},
   "outputs": [],
   "source": [
    "def check_equal_lists(list1, list2):\n",
    "    return sorted(list1) == sorted(list2)\n",
    "\n",
    "def is_subset(list1, list2):\n",
    "    set1 = set(list1)\n",
    "    set2 = set(list2)\n",
    "    return set2.issubset(set1)"
   ]
  },
  {
   "cell_type": "markdown",
   "id": "37a3f86f",
   "metadata": {},
   "source": [
    "### IBGE "
   ]
  },
  {
   "cell_type": "code",
   "execution_count": 27,
   "id": "d1e7d13e",
   "metadata": {},
   "outputs": [],
   "source": [
    "performance_ibge_code = list(performance_df['Código_IBGE'].unique())"
   ]
  },
  {
   "cell_type": "code",
   "execution_count": 28,
   "id": "b29a10a3",
   "metadata": {},
   "outputs": [],
   "source": [
    "infra_ibge_code = list(infrastructure_df['Código_IBGE'].unique())"
   ]
  },
  {
   "cell_type": "code",
   "execution_count": 40,
   "id": "64301475",
   "metadata": {},
   "outputs": [
    {
     "data": {
      "text/plain": [
       "(False, True)"
      ]
     },
     "execution_count": 40,
     "metadata": {},
     "output_type": "execute_result"
    }
   ],
   "source": [
    "check_equal_lists(infra_ibge_code, performance_ibge_code), is_subset(infra_ibge_code, performance_ibge_code)"
   ]
  },
  {
   "cell_type": "code",
   "execution_count": 39,
   "id": "63bc410b",
   "metadata": {},
   "outputs": [
    {
     "data": {
      "text/plain": [
       "(5564, 5570)"
      ]
     },
     "execution_count": 39,
     "metadata": {},
     "output_type": "execute_result"
    }
   ],
   "source": [
    "len(performance_ibge_code), len(infra_ibge_code)"
   ]
  },
  {
   "cell_type": "markdown",
   "id": "ff4c8245",
   "metadata": {},
   "source": [
    "### Year"
   ]
  },
  {
   "cell_type": "code",
   "execution_count": 41,
   "id": "a5ebf4cb",
   "metadata": {
    "collapsed": true
   },
   "outputs": [
    {
     "data": {
      "text/plain": [
       "[2008,\n",
       " 2009,\n",
       " 2010,\n",
       " 2011,\n",
       " 2012,\n",
       " 2013,\n",
       " 2014,\n",
       " 2015,\n",
       " 2016,\n",
       " 2017,\n",
       " 2018,\n",
       " 2019,\n",
       " 2020,\n",
       " 2021,\n",
       " 2022]"
      ]
     },
     "execution_count": 41,
     "metadata": {},
     "output_type": "execute_result"
    }
   ],
   "source": [
    "performance_years = list(performance_df['Ano'].unique())\n",
    "performance_years.sort()\n",
    "performance_years"
   ]
  },
  {
   "cell_type": "code",
   "execution_count": 42,
   "id": "5871eb10",
   "metadata": {
    "collapsed": true
   },
   "outputs": [
    {
     "data": {
      "text/plain": [
       "[2007,\n",
       " 2008,\n",
       " 2009,\n",
       " 2010,\n",
       " 2011,\n",
       " 2012,\n",
       " 2013,\n",
       " 2014,\n",
       " 2015,\n",
       " 2016,\n",
       " 2017,\n",
       " 2018,\n",
       " 2019,\n",
       " 2020,\n",
       " 2021,\n",
       " 2022]"
      ]
     },
     "execution_count": 42,
     "metadata": {},
     "output_type": "execute_result"
    }
   ],
   "source": [
    "infra_years = list(infrastructure_df['Ano'].unique())\n",
    "infra_years.sort()\n",
    "infra_years"
   ]
  },
  {
   "cell_type": "code",
   "execution_count": 43,
   "id": "700a6763",
   "metadata": {},
   "outputs": [
    {
     "data": {
      "text/plain": [
       "(False, True)"
      ]
     },
     "execution_count": 43,
     "metadata": {},
     "output_type": "execute_result"
    }
   ],
   "source": [
    "check_equal_lists(infra_years, performance_years), is_subset(infra_years, performance_years)"
   ]
  },
  {
   "cell_type": "code",
   "execution_count": 44,
   "id": "7dc1ed5b",
   "metadata": {},
   "outputs": [
    {
     "data": {
      "text/plain": [
       "(16, 15)"
      ]
     },
     "execution_count": 44,
     "metadata": {},
     "output_type": "execute_result"
    }
   ],
   "source": [
    "len(infra_years),len(performance_years)"
   ]
  },
  {
   "cell_type": "code",
   "execution_count": 45,
   "id": "27ffaa7d",
   "metadata": {},
   "outputs": [],
   "source": [
    "# remove data from infra for year = 2007\n",
    "infrastructure_df = infrastructure_df[infrastructure_df.Ano != 2007]"
   ]
  },
  {
   "cell_type": "code",
   "execution_count": 46,
   "id": "496f0a91",
   "metadata": {},
   "outputs": [
    {
     "data": {
      "text/plain": [
       "(15, 15)"
      ]
     },
     "execution_count": 46,
     "metadata": {},
     "output_type": "execute_result"
    }
   ],
   "source": [
    "# check for Year again\n",
    "infra_years = list(infrastructure_df['Ano'].unique())\n",
    "len(performance_years), len(infra_years)"
   ]
  },
  {
   "cell_type": "markdown",
   "id": "0f0628bc",
   "metadata": {},
   "source": [
    "## Merge the 2 datasets"
   ]
  },
  {
   "cell_type": "code",
   "execution_count": 50,
   "id": "d1275621",
   "metadata": {},
   "outputs": [],
   "source": [
    "school_merged_df = pd.merge(performance_df, infrastructure_df, on=['Ano', 'Código_IBGE', 'Localização'])"
   ]
  },
  {
   "cell_type": "code",
   "execution_count": 51,
   "id": "feee4892",
   "metadata": {},
   "outputs": [
    {
     "data": {
      "text/plain": [
       "5564"
      ]
     },
     "execution_count": 51,
     "metadata": {},
     "output_type": "execute_result"
    }
   ],
   "source": [
    "len(school_merged_df.Código_IBGE.unique())"
   ]
  },
  {
   "cell_type": "code",
   "execution_count": 52,
   "id": "e447991a",
   "metadata": {},
   "outputs": [
    {
     "data": {
      "text/html": [
       "<div>\n",
       "<style scoped>\n",
       "    .dataframe tbody tr th:only-of-type {\n",
       "        vertical-align: middle;\n",
       "    }\n",
       "\n",
       "    .dataframe tbody tr th {\n",
       "        vertical-align: top;\n",
       "    }\n",
       "\n",
       "    .dataframe thead th {\n",
       "        text-align: right;\n",
       "    }\n",
       "</style>\n",
       "<table border=\"1\" class=\"dataframe\">\n",
       "  <thead>\n",
       "    <tr style=\"text-align: right;\">\n",
       "      <th></th>\n",
       "      <th>Ano</th>\n",
       "      <th>Código_IBGE</th>\n",
       "      <th>Localização</th>\n",
       "      <th>Aprovação</th>\n",
       "      <th>Reprovação</th>\n",
       "      <th>Abandono</th>\n",
       "      <th>Matrículas</th>\n",
       "      <th>Docentes</th>\n",
       "      <th>Estabelecimentos</th>\n",
       "      <th>Turmas</th>\n",
       "    </tr>\n",
       "  </thead>\n",
       "  <tbody>\n",
       "    <tr>\n",
       "      <th>0</th>\n",
       "      <td>2008</td>\n",
       "      <td>1100064</td>\n",
       "      <td>Rural</td>\n",
       "      <td>77.7</td>\n",
       "      <td>22</td>\n",
       "      <td>0.3</td>\n",
       "      <td>328</td>\n",
       "      <td>30</td>\n",
       "      <td>1</td>\n",
       "      <td>11</td>\n",
       "    </tr>\n",
       "    <tr>\n",
       "      <th>1</th>\n",
       "      <td>2008</td>\n",
       "      <td>1100114</td>\n",
       "      <td>Rural</td>\n",
       "      <td>72.2</td>\n",
       "      <td>12.8</td>\n",
       "      <td>15</td>\n",
       "      <td>506</td>\n",
       "      <td>32</td>\n",
       "      <td>3</td>\n",
       "      <td>16</td>\n",
       "    </tr>\n",
       "    <tr>\n",
       "      <th>2</th>\n",
       "      <td>2008</td>\n",
       "      <td>1100122</td>\n",
       "      <td>Rural</td>\n",
       "      <td>93.3</td>\n",
       "      <td>2.1</td>\n",
       "      <td>4.6</td>\n",
       "      <td>245</td>\n",
       "      <td>19</td>\n",
       "      <td>2</td>\n",
       "      <td>10</td>\n",
       "    </tr>\n",
       "    <tr>\n",
       "      <th>3</th>\n",
       "      <td>2008</td>\n",
       "      <td>1100148</td>\n",
       "      <td>Rural</td>\n",
       "      <td>85.8</td>\n",
       "      <td>0.9</td>\n",
       "      <td>13.3</td>\n",
       "      <td>237</td>\n",
       "      <td>13</td>\n",
       "      <td>8</td>\n",
       "      <td>9</td>\n",
       "    </tr>\n",
       "    <tr>\n",
       "      <th>4</th>\n",
       "      <td>2008</td>\n",
       "      <td>1100205</td>\n",
       "      <td>Rural</td>\n",
       "      <td>72.1</td>\n",
       "      <td>7.2</td>\n",
       "      <td>20.7</td>\n",
       "      <td>598</td>\n",
       "      <td>45</td>\n",
       "      <td>4</td>\n",
       "      <td>24</td>\n",
       "    </tr>\n",
       "    <tr>\n",
       "      <th>...</th>\n",
       "      <td>...</td>\n",
       "      <td>...</td>\n",
       "      <td>...</td>\n",
       "      <td>...</td>\n",
       "      <td>...</td>\n",
       "      <td>...</td>\n",
       "      <td>...</td>\n",
       "      <td>...</td>\n",
       "      <td>...</td>\n",
       "      <td>...</td>\n",
       "    </tr>\n",
       "    <tr>\n",
       "      <th>102884</th>\n",
       "      <td>2022</td>\n",
       "      <td>5222005</td>\n",
       "      <td>Urbana</td>\n",
       "      <td>99.2</td>\n",
       "      <td>0.8</td>\n",
       "      <td>0.0</td>\n",
       "      <td>399</td>\n",
       "      <td>27</td>\n",
       "      <td>2</td>\n",
       "      <td>16</td>\n",
       "    </tr>\n",
       "    <tr>\n",
       "      <th>102885</th>\n",
       "      <td>2022</td>\n",
       "      <td>5222054</td>\n",
       "      <td>Urbana</td>\n",
       "      <td>99.3</td>\n",
       "      <td>0.7</td>\n",
       "      <td>0.0</td>\n",
       "      <td>340</td>\n",
       "      <td>22</td>\n",
       "      <td>1</td>\n",
       "      <td>12</td>\n",
       "    </tr>\n",
       "    <tr>\n",
       "      <th>102886</th>\n",
       "      <td>2022</td>\n",
       "      <td>5222203</td>\n",
       "      <td>Urbana</td>\n",
       "      <td>100.0</td>\n",
       "      <td>0.0</td>\n",
       "      <td>0.0</td>\n",
       "      <td>222</td>\n",
       "      <td>8</td>\n",
       "      <td>1</td>\n",
       "      <td>8</td>\n",
       "    </tr>\n",
       "    <tr>\n",
       "      <th>102887</th>\n",
       "      <td>2022</td>\n",
       "      <td>5222302</td>\n",
       "      <td>Urbana</td>\n",
       "      <td>90.5</td>\n",
       "      <td>5.2</td>\n",
       "      <td>4.3</td>\n",
       "      <td>117</td>\n",
       "      <td>14</td>\n",
       "      <td>1</td>\n",
       "      <td>6</td>\n",
       "    </tr>\n",
       "    <tr>\n",
       "      <th>102888</th>\n",
       "      <td>2022</td>\n",
       "      <td>5300108</td>\n",
       "      <td>Urbana</td>\n",
       "      <td>85.5</td>\n",
       "      <td>9.8</td>\n",
       "      <td>4.7</td>\n",
       "      <td>85,139</td>\n",
       "      <td>3,790</td>\n",
       "      <td>94</td>\n",
       "      <td>2,635</td>\n",
       "    </tr>\n",
       "  </tbody>\n",
       "</table>\n",
       "<p>102889 rows × 10 columns</p>\n",
       "</div>"
      ],
      "text/plain": [
       "         Ano  Código_IBGE Localização Aprovação Reprovação Abandono  \\\n",
       "0       2008      1100064       Rural      77.7         22      0.3   \n",
       "1       2008      1100114       Rural      72.2       12.8       15   \n",
       "2       2008      1100122       Rural      93.3        2.1      4.6   \n",
       "3       2008      1100148       Rural      85.8        0.9     13.3   \n",
       "4       2008      1100205       Rural      72.1        7.2     20.7   \n",
       "...      ...          ...         ...       ...        ...      ...   \n",
       "102884  2022      5222005      Urbana      99.2        0.8      0.0   \n",
       "102885  2022      5222054      Urbana      99.3        0.7      0.0   \n",
       "102886  2022      5222203      Urbana     100.0        0.0      0.0   \n",
       "102887  2022      5222302      Urbana      90.5        5.2      4.3   \n",
       "102888  2022      5300108      Urbana      85.5        9.8      4.7   \n",
       "\n",
       "       Matrículas Docentes  Estabelecimentos Turmas  \n",
       "0             328      30                  1     11  \n",
       "1             506      32                  3     16  \n",
       "2             245      19                  2     10  \n",
       "3             237      13                  8      9  \n",
       "4             598      45                  4     24  \n",
       "...           ...      ...               ...    ...  \n",
       "102884        399       27                 2     16  \n",
       "102885        340       22                 1     12  \n",
       "102886        222        8                 1      8  \n",
       "102887        117       14                 1      6  \n",
       "102888     85,139    3,790                94  2,635  \n",
       "\n",
       "[102889 rows x 10 columns]"
      ]
     },
     "execution_count": 52,
     "metadata": {},
     "output_type": "execute_result"
    }
   ],
   "source": [
    "school_merged_df"
   ]
  },
  {
   "cell_type": "code",
   "execution_count": 53,
   "id": "888c3b04",
   "metadata": {},
   "outputs": [
    {
     "data": {
      "text/html": [
       "<div>\n",
       "<style scoped>\n",
       "    .dataframe tbody tr th:only-of-type {\n",
       "        vertical-align: middle;\n",
       "    }\n",
       "\n",
       "    .dataframe tbody tr th {\n",
       "        vertical-align: top;\n",
       "    }\n",
       "\n",
       "    .dataframe thead th {\n",
       "        text-align: right;\n",
       "    }\n",
       "</style>\n",
       "<table border=\"1\" class=\"dataframe\">\n",
       "  <thead>\n",
       "    <tr style=\"text-align: right;\">\n",
       "      <th></th>\n",
       "      <th>Ano</th>\n",
       "      <th>Código_IBGE</th>\n",
       "      <th>Localização</th>\n",
       "      <th>Aprovação</th>\n",
       "      <th>Reprovação</th>\n",
       "      <th>Abandono</th>\n",
       "      <th>Matrículas</th>\n",
       "      <th>Docentes</th>\n",
       "      <th>Estabelecimentos</th>\n",
       "      <th>Turmas</th>\n",
       "    </tr>\n",
       "  </thead>\n",
       "  <tbody>\n",
       "  </tbody>\n",
       "</table>\n",
       "</div>"
      ],
      "text/plain": [
       "Empty DataFrame\n",
       "Columns: [Ano, Código_IBGE, Localização, Aprovação, Reprovação, Abandono, Matrículas, Docentes, Estabelecimentos, Turmas]\n",
       "Index: []"
      ]
     },
     "execution_count": 53,
     "metadata": {},
     "output_type": "execute_result"
    }
   ],
   "source": [
    "# check if there is any instance of NaN in any of the rows\n",
    "school_merged_df[school_merged_df.isna().any(axis=1)]"
   ]
  },
  {
   "cell_type": "code",
   "execution_count": 54,
   "id": "52246672",
   "metadata": {},
   "outputs": [
    {
     "data": {
      "text/html": [
       "<div>\n",
       "<style scoped>\n",
       "    .dataframe tbody tr th:only-of-type {\n",
       "        vertical-align: middle;\n",
       "    }\n",
       "\n",
       "    .dataframe tbody tr th {\n",
       "        vertical-align: top;\n",
       "    }\n",
       "\n",
       "    .dataframe thead th {\n",
       "        text-align: right;\n",
       "    }\n",
       "</style>\n",
       "<table border=\"1\" class=\"dataframe\">\n",
       "  <thead>\n",
       "    <tr style=\"text-align: right;\">\n",
       "      <th></th>\n",
       "      <th>Ano</th>\n",
       "      <th>Código_IBGE</th>\n",
       "      <th>Localização</th>\n",
       "      <th>Aprovação</th>\n",
       "      <th>Reprovação</th>\n",
       "      <th>Abandono</th>\n",
       "      <th>Matrículas</th>\n",
       "      <th>Docentes</th>\n",
       "      <th>Estabelecimentos</th>\n",
       "      <th>Turmas</th>\n",
       "    </tr>\n",
       "  </thead>\n",
       "  <tbody>\n",
       "  </tbody>\n",
       "</table>\n",
       "</div>"
      ],
      "text/plain": [
       "Empty DataFrame\n",
       "Columns: [Ano, Código_IBGE, Localização, Aprovação, Reprovação, Abandono, Matrículas, Docentes, Estabelecimentos, Turmas]\n",
       "Index: []"
      ]
     },
     "execution_count": 54,
     "metadata": {},
     "output_type": "execute_result"
    }
   ],
   "source": [
    "# check if there is any instance of -- in any of the rows\n",
    "school_merged_df[school_merged_df.eq(\"--\").any(axis=1)] "
   ]
  },
  {
   "cell_type": "code",
   "execution_count": 55,
   "id": "1acd6b9b",
   "metadata": {},
   "outputs": [],
   "source": [
    "# Write the merged DataFrame to a new CSV file\n",
    "file_path = \"../../transformed_data/school_data/school_all_data.csv\"\n",
    "school_merged_df.to_csv(file_path, index=False)"
   ]
  },
  {
   "cell_type": "code",
   "execution_count": 63,
   "id": "5e672b49",
   "metadata": {},
   "outputs": [
    {
     "name": "stdout",
     "output_type": "stream",
     "text": [
      "<class 'pandas.core.frame.DataFrame'>\n",
      "RangeIndex: 102889 entries, 0 to 102888\n",
      "Data columns (total 10 columns):\n",
      " #   Column            Non-Null Count   Dtype  \n",
      "---  ------            --------------   -----  \n",
      " 0   Ano               102889 non-null  int64  \n",
      " 1   Código_IBGE       102889 non-null  int64  \n",
      " 2   Localização       102889 non-null  object \n",
      " 3   Aprovação         102889 non-null  float64\n",
      " 4   Reprovação        102889 non-null  float64\n",
      " 5   Abandono          102889 non-null  float64\n",
      " 6   Matrículas        102889 non-null  int64  \n",
      " 7   Docentes          102875 non-null  float64\n",
      " 8   Estabelecimentos  102889 non-null  int64  \n",
      " 9   Turmas            102889 non-null  int64  \n",
      "dtypes: float64(4), int64(5), object(1)\n",
      "memory usage: 7.8+ MB\n"
     ]
    }
   ],
   "source": [
    "pd.read_csv(\"../../transformed_data/school_data/school_all_data.csv\").info()"
   ]
  },
  {
   "cell_type": "code",
   "execution_count": null,
   "id": "05e5cd95",
   "metadata": {},
   "outputs": [],
   "source": []
  }
 ],
 "metadata": {
  "kernelspec": {
   "display_name": "Python 3 (ipykernel)",
   "language": "python",
   "name": "python3"
  },
  "language_info": {
   "codemirror_mode": {
    "name": "ipython",
    "version": 3
   },
   "file_extension": ".py",
   "mimetype": "text/x-python",
   "name": "python",
   "nbconvert_exporter": "python",
   "pygments_lexer": "ipython3",
   "version": "3.10.6"
  }
 },
 "nbformat": 4,
 "nbformat_minor": 5
}
